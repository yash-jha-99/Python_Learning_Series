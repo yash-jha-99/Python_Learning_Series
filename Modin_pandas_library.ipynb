{
 "cells": [
  {
   "cell_type": "markdown",
   "id": "5cd74cc7",
   "metadata": {},
   "source": [
    "# Modin Pandas Library \n",
    "- Use to speed up pandas library by 4 Times"
   ]
  },
  {
   "cell_type": "code",
   "execution_count": 1,
   "id": "60767b76",
   "metadata": {},
   "outputs": [
    {
     "name": "stdout",
     "output_type": "stream",
     "text": [
      "Requirement already satisfied: modin[ray] in c:\\users\\yash.jha\\anaconda3\\lib\\site-packages (0.15.2)\n",
      "Requirement already satisfied: numpy>=1.18.5 in c:\\users\\yash.jha\\anaconda3\\lib\\site-packages (from modin[ray]) (1.20.3)\n",
      "Requirement already satisfied: psutil in c:\\users\\yash.jha\\anaconda3\\lib\\site-packages (from modin[ray]) (5.8.0)\n",
      "Requirement already satisfied: pandas==1.4.3 in c:\\users\\yash.jha\\anaconda3\\lib\\site-packages (from modin[ray]) (1.4.3)\n",
      "Requirement already satisfied: fsspec in c:\\users\\yash.jha\\anaconda3\\lib\\site-packages (from modin[ray]) (2021.10.1)\n",
      "Requirement already satisfied: packaging in c:\\users\\yash.jha\\anaconda3\\lib\\site-packages (from modin[ray]) (21.0)\n",
      "Requirement already satisfied: protobuf<4.0.0 in c:\\users\\yash.jha\\anaconda3\\lib\\site-packages (from modin[ray]) (3.20.1)\n",
      "Requirement already satisfied: pyarrow>=4.0.1 in c:\\users\\yash.jha\\anaconda3\\lib\\site-packages (from modin[ray]) (8.0.0)\n",
      "Requirement already satisfied: redis<4.0.0,>=3.5.0 in c:\\users\\yash.jha\\anaconda3\\lib\\site-packages (from modin[ray]) (3.5.3)\n",
      "Requirement already satisfied: ray[default]<1.13.0,>=1.4.0 in c:\\users\\yash.jha\\anaconda3\\lib\\site-packages (from modin[ray]) (1.12.1)\n",
      "Requirement already satisfied: pytz>=2020.1 in c:\\users\\yash.jha\\anaconda3\\lib\\site-packages (from pandas==1.4.3->modin[ray]) (2021.3)\n",
      "Requirement already satisfied: python-dateutil>=2.8.1 in c:\\users\\yash.jha\\anaconda3\\lib\\site-packages (from pandas==1.4.3->modin[ray]) (2.8.2)\n",
      "Requirement already satisfied: six>=1.5 in c:\\users\\yash.jha\\anaconda3\\lib\\site-packages (from python-dateutil>=2.8.1->pandas==1.4.3->modin[ray]) (1.16.0)\n",
      "Requirement already satisfied: filelock in c:\\users\\yash.jha\\anaconda3\\lib\\site-packages (from ray[default]<1.13.0,>=1.4.0->modin[ray]) (3.3.1)\n",
      "Requirement already satisfied: virtualenv in c:\\users\\yash.jha\\anaconda3\\lib\\site-packages (from ray[default]<1.13.0,>=1.4.0->modin[ray]) (20.16.2)\n",
      "Requirement already satisfied: msgpack<2.0.0,>=1.0.0 in c:\\users\\yash.jha\\anaconda3\\lib\\site-packages (from ray[default]<1.13.0,>=1.4.0->modin[ray]) (1.0.2)\n",
      "Requirement already satisfied: frozenlist in c:\\users\\yash.jha\\anaconda3\\lib\\site-packages (from ray[default]<1.13.0,>=1.4.0->modin[ray]) (1.3.0)\n",
      "Requirement already satisfied: jsonschema in c:\\users\\yash.jha\\anaconda3\\lib\\site-packages (from ray[default]<1.13.0,>=1.4.0->modin[ray]) (3.2.0)\n",
      "Requirement already satisfied: click>=7.0 in c:\\users\\yash.jha\\anaconda3\\lib\\site-packages (from ray[default]<1.13.0,>=1.4.0->modin[ray]) (8.0.3)\n",
      "Requirement already satisfied: pyyaml in c:\\users\\yash.jha\\anaconda3\\lib\\site-packages (from ray[default]<1.13.0,>=1.4.0->modin[ray]) (6.0)\n",
      "Requirement already satisfied: grpcio<=1.43.0,>=1.28.1 in c:\\users\\yash.jha\\anaconda3\\lib\\site-packages (from ray[default]<1.13.0,>=1.4.0->modin[ray]) (1.43.0)\n",
      "Requirement already satisfied: aiosignal in c:\\users\\yash.jha\\anaconda3\\lib\\site-packages (from ray[default]<1.13.0,>=1.4.0->modin[ray]) (1.2.0)\n",
      "Requirement already satisfied: attrs in c:\\users\\yash.jha\\anaconda3\\lib\\site-packages (from ray[default]<1.13.0,>=1.4.0->modin[ray]) (21.2.0)\n",
      "Requirement already satisfied: requests in c:\\users\\yash.jha\\anaconda3\\lib\\site-packages (from ray[default]<1.13.0,>=1.4.0->modin[ray]) (2.26.0)\n",
      "Requirement already satisfied: opencensus in c:\\users\\yash.jha\\anaconda3\\lib\\site-packages (from ray[default]<1.13.0,>=1.4.0->modin[ray]) (0.10.0)\n",
      "Requirement already satisfied: colorful in c:\\users\\yash.jha\\anaconda3\\lib\\site-packages (from ray[default]<1.13.0,>=1.4.0->modin[ray]) (0.5.4)\n",
      "Requirement already satisfied: aiohttp-cors in c:\\users\\yash.jha\\anaconda3\\lib\\site-packages (from ray[default]<1.13.0,>=1.4.0->modin[ray]) (0.7.0)\n",
      "Requirement already satisfied: gpustat>=1.0.0b1 in c:\\users\\yash.jha\\anaconda3\\lib\\site-packages (from ray[default]<1.13.0,>=1.4.0->modin[ray]) (1.0.0rc1)\n",
      "Requirement already satisfied: smart-open in c:\\users\\yash.jha\\anaconda3\\lib\\site-packages (from ray[default]<1.13.0,>=1.4.0->modin[ray]) (6.0.0)\n",
      "Requirement already satisfied: prometheus-client<0.14.0,>=0.7.1 in c:\\users\\yash.jha\\anaconda3\\lib\\site-packages (from ray[default]<1.13.0,>=1.4.0->modin[ray]) (0.11.0)\n",
      "Requirement already satisfied: aiohttp>=3.7 in c:\\users\\yash.jha\\anaconda3\\lib\\site-packages (from ray[default]<1.13.0,>=1.4.0->modin[ray]) (3.8.1)\n",
      "Requirement already satisfied: py-spy>=0.2.0 in c:\\users\\yash.jha\\anaconda3\\lib\\site-packages (from ray[default]<1.13.0,>=1.4.0->modin[ray]) (0.3.12)\n",
      "Requirement already satisfied: charset-normalizer<3.0,>=2.0 in c:\\users\\yash.jha\\anaconda3\\lib\\site-packages (from aiohttp>=3.7->ray[default]<1.13.0,>=1.4.0->modin[ray]) (2.0.4)\n",
      "Requirement already satisfied: async-timeout<5.0,>=4.0.0a3 in c:\\users\\yash.jha\\anaconda3\\lib\\site-packages (from aiohttp>=3.7->ray[default]<1.13.0,>=1.4.0->modin[ray]) (4.0.2)\n",
      "Requirement already satisfied: yarl<2.0,>=1.0 in c:\\users\\yash.jha\\anaconda3\\lib\\site-packages (from aiohttp>=3.7->ray[default]<1.13.0,>=1.4.0->modin[ray]) (1.8.1)\n",
      "Requirement already satisfied: multidict<7.0,>=4.5 in c:\\users\\yash.jha\\anaconda3\\lib\\site-packages (from aiohttp>=3.7->ray[default]<1.13.0,>=1.4.0->modin[ray]) (6.0.2)\n",
      "Requirement already satisfied: colorama in c:\\users\\yash.jha\\anaconda3\\lib\\site-packages (from click>=7.0->ray[default]<1.13.0,>=1.4.0->modin[ray]) (0.4.4)\n",
      "Requirement already satisfied: blessed>=1.17.1 in c:\\users\\yash.jha\\anaconda3\\lib\\site-packages (from gpustat>=1.0.0b1->ray[default]<1.13.0,>=1.4.0->modin[ray]) (1.19.1)\n",
      "Requirement already satisfied: nvidia-ml-py<=11.495.46,>=11.450.129 in c:\\users\\yash.jha\\anaconda3\\lib\\site-packages (from gpustat>=1.0.0b1->ray[default]<1.13.0,>=1.4.0->modin[ray]) (11.495.46)\n",
      "Requirement already satisfied: wcwidth>=0.1.4 in c:\\users\\yash.jha\\anaconda3\\lib\\site-packages (from blessed>=1.17.1->gpustat>=1.0.0b1->ray[default]<1.13.0,>=1.4.0->modin[ray]) (0.2.5)\n",
      "Requirement already satisfied: jinxed>=1.1.0 in c:\\users\\yash.jha\\anaconda3\\lib\\site-packages (from blessed>=1.17.1->gpustat>=1.0.0b1->ray[default]<1.13.0,>=1.4.0->modin[ray]) (1.2.0)\n",
      "Requirement already satisfied: ansicon in c:\\users\\yash.jha\\anaconda3\\lib\\site-packages (from jinxed>=1.1.0->blessed>=1.17.1->gpustat>=1.0.0b1->ray[default]<1.13.0,>=1.4.0->modin[ray]) (1.89.0)\n",
      "Requirement already satisfied: idna>=2.0 in c:\\users\\yash.jha\\anaconda3\\lib\\site-packages (from yarl<2.0,>=1.0->aiohttp>=3.7->ray[default]<1.13.0,>=1.4.0->modin[ray]) (3.2)\n",
      "Requirement already satisfied: pyrsistent>=0.14.0 in c:\\users\\yash.jha\\anaconda3\\lib\\site-packages (from jsonschema->ray[default]<1.13.0,>=1.4.0->modin[ray]) (0.18.0)\n",
      "Requirement already satisfied: setuptools in c:\\users\\yash.jha\\anaconda3\\lib\\site-packages (from jsonschema->ray[default]<1.13.0,>=1.4.0->modin[ray]) (58.0.4)\n",
      "Requirement already satisfied: google-api-core<3.0.0,>=1.0.0 in c:\\users\\yash.jha\\anaconda3\\lib\\site-packages (from opencensus->ray[default]<1.13.0,>=1.4.0->modin[ray]) (2.8.2)\n",
      "Requirement already satisfied: opencensus-context>=0.1.2 in c:\\users\\yash.jha\\anaconda3\\lib\\site-packages (from opencensus->ray[default]<1.13.0,>=1.4.0->modin[ray]) (0.1.2)\n",
      "Requirement already satisfied: google-auth<3.0dev,>=1.25.0 in c:\\users\\yash.jha\\anaconda3\\lib\\site-packages (from google-api-core<3.0.0,>=1.0.0->opencensus->ray[default]<1.13.0,>=1.4.0->modin[ray]) (2.9.1)\n",
      "Requirement already satisfied: googleapis-common-protos<2.0dev,>=1.56.2 in c:\\users\\yash.jha\\anaconda3\\lib\\site-packages (from google-api-core<3.0.0,>=1.0.0->opencensus->ray[default]<1.13.0,>=1.4.0->modin[ray]) (1.56.4)\n",
      "Requirement already satisfied: pyasn1-modules>=0.2.1 in c:\\users\\yash.jha\\anaconda3\\lib\\site-packages (from google-auth<3.0dev,>=1.25.0->google-api-core<3.0.0,>=1.0.0->opencensus->ray[default]<1.13.0,>=1.4.0->modin[ray]) (0.2.8)\n",
      "Requirement already satisfied: cachetools<6.0,>=2.0.0 in c:\\users\\yash.jha\\anaconda3\\lib\\site-packages (from google-auth<3.0dev,>=1.25.0->google-api-core<3.0.0,>=1.0.0->opencensus->ray[default]<1.13.0,>=1.4.0->modin[ray]) (5.2.0)\n",
      "Requirement already satisfied: rsa<5,>=3.1.4 in c:\\users\\yash.jha\\anaconda3\\lib\\site-packages (from google-auth<3.0dev,>=1.25.0->google-api-core<3.0.0,>=1.0.0->opencensus->ray[default]<1.13.0,>=1.4.0->modin[ray]) (4.9)\n",
      "Requirement already satisfied: pyasn1<0.5.0,>=0.4.6 in c:\\users\\yash.jha\\anaconda3\\lib\\site-packages (from pyasn1-modules>=0.2.1->google-auth<3.0dev,>=1.25.0->google-api-core<3.0.0,>=1.0.0->opencensus->ray[default]<1.13.0,>=1.4.0->modin[ray]) (0.4.8)\n",
      "Requirement already satisfied: urllib3<1.27,>=1.21.1 in c:\\users\\yash.jha\\anaconda3\\lib\\site-packages (from requests->ray[default]<1.13.0,>=1.4.0->modin[ray]) (1.26.7)\n",
      "Requirement already satisfied: certifi>=2017.4.17 in c:\\users\\yash.jha\\anaconda3\\lib\\site-packages (from requests->ray[default]<1.13.0,>=1.4.0->modin[ray]) (2021.10.8)\n",
      "Requirement already satisfied: pyparsing>=2.0.2 in c:\\users\\yash.jha\\anaconda3\\lib\\site-packages (from packaging->modin[ray]) (3.0.4)\n",
      "Requirement already satisfied: distlib<1,>=0.3.1 in c:\\users\\yash.jha\\anaconda3\\lib\\site-packages (from virtualenv->ray[default]<1.13.0,>=1.4.0->modin[ray]) (0.3.5)\n",
      "Requirement already satisfied: platformdirs<3,>=2 in c:\\users\\yash.jha\\anaconda3\\lib\\site-packages (from virtualenv->ray[default]<1.13.0,>=1.4.0->modin[ray]) (2.5.2)\n"
     ]
    }
   ],
   "source": [
    "!pip install modin[ray]"
   ]
  },
  {
   "cell_type": "code",
   "execution_count": 2,
   "id": "84a42d34",
   "metadata": {},
   "outputs": [],
   "source": [
    "import pandas as pd"
   ]
  },
  {
   "cell_type": "code",
   "execution_count": 5,
   "id": "38051047",
   "metadata": {},
   "outputs": [
    {
     "name": "stdout",
     "output_type": "stream",
     "text": [
      "Wall time: 5.06 ms\n"
     ]
    },
    {
     "data": {
      "text/html": [
       "<div>\n",
       "<style scoped>\n",
       "    .dataframe tbody tr th:only-of-type {\n",
       "        vertical-align: middle;\n",
       "    }\n",
       "\n",
       "    .dataframe tbody tr th {\n",
       "        vertical-align: top;\n",
       "    }\n",
       "\n",
       "    .dataframe thead th {\n",
       "        text-align: right;\n",
       "    }\n",
       "</style>\n",
       "<table border=\"1\" class=\"dataframe\">\n",
       "  <thead>\n",
       "    <tr style=\"text-align: right;\">\n",
       "      <th></th>\n",
       "      <th>Unnamed: 0</th>\n",
       "      <th>col1</th>\n",
       "      <th>col3</th>\n",
       "    </tr>\n",
       "  </thead>\n",
       "  <tbody>\n",
       "    <tr>\n",
       "      <th>0</th>\n",
       "      <td>0</td>\n",
       "      <td>x</td>\n",
       "      <td>1</td>\n",
       "    </tr>\n",
       "    <tr>\n",
       "      <th>1</th>\n",
       "      <td>1</td>\n",
       "      <td>a</td>\n",
       "      <td>2</td>\n",
       "    </tr>\n",
       "    <tr>\n",
       "      <th>2</th>\n",
       "      <td>2</td>\n",
       "      <td>c</td>\n",
       "      <td>3</td>\n",
       "    </tr>\n",
       "  </tbody>\n",
       "</table>\n",
       "</div>"
      ],
      "text/plain": [
       "   Unnamed: 0 col1  col3\n",
       "0           0    x     1\n",
       "1           1    a     2\n",
       "2           2    c     3"
      ]
     },
     "execution_count": 5,
     "metadata": {},
     "output_type": "execute_result"
    }
   ],
   "source": [
    "%%time\n",
    "df=pd.read_csv(\"test.csv\")\n",
    "df"
   ]
  },
  {
   "cell_type": "code",
   "execution_count": 6,
   "id": "2f85707d",
   "metadata": {},
   "outputs": [],
   "source": [
    "import modin.pandas as pd"
   ]
  },
  {
   "cell_type": "code",
   "execution_count": 1,
   "id": "f55d173b",
   "metadata": {},
   "outputs": [
    {
     "data": {
      "application/javascript": [
       "\n",
       "        if (window._pyforest_update_imports_cell) { window._pyforest_update_imports_cell('import pandas as pd'); }\n",
       "    "
      ],
      "text/plain": [
       "<IPython.core.display.Javascript object>"
      ]
     },
     "metadata": {},
     "output_type": "display_data"
    },
    {
     "name": "stdout",
     "output_type": "stream",
     "text": [
      "Wall time: 893 ms\n"
     ]
    },
    {
     "data": {
      "text/html": [
       "<div>\n",
       "<style scoped>\n",
       "    .dataframe tbody tr th:only-of-type {\n",
       "        vertical-align: middle;\n",
       "    }\n",
       "\n",
       "    .dataframe tbody tr th {\n",
       "        vertical-align: top;\n",
       "    }\n",
       "\n",
       "    .dataframe thead th {\n",
       "        text-align: right;\n",
       "    }\n",
       "</style>\n",
       "<table border=\"1\" class=\"dataframe\">\n",
       "  <thead>\n",
       "    <tr style=\"text-align: right;\">\n",
       "      <th></th>\n",
       "      <th>Unnamed: 0</th>\n",
       "      <th>col1</th>\n",
       "      <th>col3</th>\n",
       "    </tr>\n",
       "  </thead>\n",
       "  <tbody>\n",
       "    <tr>\n",
       "      <th>0</th>\n",
       "      <td>0</td>\n",
       "      <td>x</td>\n",
       "      <td>1</td>\n",
       "    </tr>\n",
       "    <tr>\n",
       "      <th>1</th>\n",
       "      <td>1</td>\n",
       "      <td>a</td>\n",
       "      <td>2</td>\n",
       "    </tr>\n",
       "    <tr>\n",
       "      <th>2</th>\n",
       "      <td>2</td>\n",
       "      <td>c</td>\n",
       "      <td>3</td>\n",
       "    </tr>\n",
       "  </tbody>\n",
       "</table>\n",
       "</div>"
      ],
      "text/plain": [
       "   Unnamed: 0 col1  col3\n",
       "0           0    x     1\n",
       "1           1    a     2\n",
       "2           2    c     3"
      ]
     },
     "execution_count": 1,
     "metadata": {},
     "output_type": "execute_result"
    }
   ],
   "source": [
    "%%time\n",
    "df=pd.read_csv(\"test.csv\")\n",
    "df"
   ]
  },
  {
   "cell_type": "code",
   "execution_count": 2,
   "id": "4748cef2",
   "metadata": {},
   "outputs": [],
   "source": [
    "# Here we can see the time difference modin is taking much less time to perform the same operation."
   ]
  },
  {
   "cell_type": "code",
   "execution_count": 3,
   "id": "98310d5f",
   "metadata": {},
   "outputs": [],
   "source": [
    "# We can also try to perform the operations on huge dataset and also different types of operations."
   ]
  },
  {
   "cell_type": "code",
   "execution_count": null,
   "id": "46e4628f",
   "metadata": {},
   "outputs": [],
   "source": []
  }
 ],
 "metadata": {
  "kernelspec": {
   "display_name": "Python 3 (ipykernel)",
   "language": "python",
   "name": "python3"
  },
  "language_info": {
   "codemirror_mode": {
    "name": "ipython",
    "version": 3
   },
   "file_extension": ".py",
   "mimetype": "text/x-python",
   "name": "python",
   "nbconvert_exporter": "python",
   "pygments_lexer": "ipython3",
   "version": "3.9.7"
  }
 },
 "nbformat": 4,
 "nbformat_minor": 5
}
