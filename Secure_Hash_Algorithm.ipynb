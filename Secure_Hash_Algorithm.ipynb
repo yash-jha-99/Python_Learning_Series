{
 "cells": [
  {
   "cell_type": "markdown",
   "id": "980156f8",
   "metadata": {},
   "source": [
    "## SHA, ( Secure Hash Algorithms )- Base Of BlockChain\n",
    "- SHA256 : This hash function belong to hash class SHA-2, the internal block size of it is 32 bits.\n",
    "- SHA384 : This hash function belong to hash class SHA-2, the internal block size of it is 32 bits. This is one of the truncated version.\n",
    "- SHA224 : This hash function belong to hash class SHA-2, the internal block size of it is 32 bits. This is one of the truncated version.\n",
    "- SHA512 : This hash function belong to hash class SHA-2, the internal block size of it is 64 bits.\n",
    "- SHA1 : The 160 bit hash function that resembles MD5 hash in working and was discontinued to be used seeing its security vulnerabilities."
   ]
  },
  {
   "cell_type": "code",
   "execution_count": 2,
   "id": "9dce2e49",
   "metadata": {},
   "outputs": [],
   "source": [
    "import hashlib"
   ]
  },
  {
   "cell_type": "markdown",
   "id": "d7b5f575",
   "metadata": {},
   "source": [
    "## SHA256"
   ]
  },
  {
   "cell_type": "code",
   "execution_count": 3,
   "id": "1f0b8fed",
   "metadata": {},
   "outputs": [
    {
     "name": "stdout",
     "output_type": "stream",
     "text": [
      "<sha256 _hashlib.HASH object @ 0x00000267C094CB90>\n"
     ]
    }
   ],
   "source": [
    "str1=\"Yash Jha\"\n",
    "#process of hashing\n",
    "## First step is to encode\n",
    "### Then apply Hashing Algorothim\n",
    "\n",
    "hashedval=hashlib.sha256(str1.encode())\n",
    "print(hashedval)"
   ]
  },
  {
   "cell_type": "code",
   "execution_count": 5,
   "id": "36d4392f",
   "metadata": {},
   "outputs": [
    {
     "data": {
      "text/plain": [
       "'ae878e39bfd860324cf5de1be90768c57048d8880b5ae4d5cdb7dea26bd7c503'"
      ]
     },
     "execution_count": 5,
     "metadata": {},
     "output_type": "execute_result"
    }
   ],
   "source": [
    "hashedval.hexdigest()"
   ]
  },
  {
   "cell_type": "markdown",
   "id": "9539e886",
   "metadata": {},
   "source": [
    "## SHA384"
   ]
  },
  {
   "cell_type": "code",
   "execution_count": 9,
   "id": "58346a03",
   "metadata": {},
   "outputs": [
    {
     "data": {
      "text/plain": [
       "'f1de5fc2b6e4613ba25315faf24d454111bfb4180d934692fbf1e2a8c71a9e2be4914e17a21c07ac0bc3308f4e099164'"
      ]
     },
     "execution_count": 9,
     "metadata": {},
     "output_type": "execute_result"
    }
   ],
   "source": [
    "hashedval=hashlib.sha384(str1.encode())\n",
    "hashedval.hexdigest()"
   ]
  },
  {
   "cell_type": "markdown",
   "id": "5547b219",
   "metadata": {},
   "source": [
    "## SHA224"
   ]
  },
  {
   "cell_type": "code",
   "execution_count": 12,
   "id": "52e0a926",
   "metadata": {},
   "outputs": [
    {
     "data": {
      "text/plain": [
       "'1a0baf33093cda76ad9f1754f2f4867103a47f234826cfb069d58008'"
      ]
     },
     "execution_count": 12,
     "metadata": {},
     "output_type": "execute_result"
    }
   ],
   "source": [
    "hashedval=hashlib.sha224(str1.encode())\n",
    "hashedval.hexdigest()"
   ]
  },
  {
   "cell_type": "markdown",
   "id": "71fd352f",
   "metadata": {},
   "source": [
    "## SHA512"
   ]
  },
  {
   "cell_type": "code",
   "execution_count": 13,
   "id": "284b7524",
   "metadata": {},
   "outputs": [
    {
     "data": {
      "text/plain": [
       "'fe964958bbdee725ed60b6c193156ea20fd541c1bc285b289b86498936587011450ecd6f59a948fae4b7b99969631a489b69aaf69f417817851ceab9933daafc'"
      ]
     },
     "execution_count": 13,
     "metadata": {},
     "output_type": "execute_result"
    }
   ],
   "source": [
    "hashedval=hashlib.sha512(str1.encode())\n",
    "hashedval.hexdigest()"
   ]
  },
  {
   "cell_type": "markdown",
   "id": "40adc184",
   "metadata": {},
   "source": [
    "## SHA1"
   ]
  },
  {
   "cell_type": "code",
   "execution_count": 14,
   "id": "ae5c8553",
   "metadata": {},
   "outputs": [
    {
     "data": {
      "text/plain": [
       "'e139db0e0923d81860af2664db9b5f734d53e120'"
      ]
     },
     "execution_count": 14,
     "metadata": {},
     "output_type": "execute_result"
    }
   ],
   "source": [
    "hashedval=hashlib.sha1(str1.encode())\n",
    "hashedval.hexdigest()"
   ]
  },
  {
   "cell_type": "code",
   "execution_count": null,
   "id": "c07db0f2",
   "metadata": {},
   "outputs": [],
   "source": []
  }
 ],
 "metadata": {
  "kernelspec": {
   "display_name": "Python 3 (ipykernel)",
   "language": "python",
   "name": "python3"
  },
  "language_info": {
   "codemirror_mode": {
    "name": "ipython",
    "version": 3
   },
   "file_extension": ".py",
   "mimetype": "text/x-python",
   "name": "python",
   "nbconvert_exporter": "python",
   "pygments_lexer": "ipython3",
   "version": "3.9.7"
  }
 },
 "nbformat": 4,
 "nbformat_minor": 5
}
