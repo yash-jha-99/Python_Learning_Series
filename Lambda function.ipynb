{
 "cells": [
  {
   "cell_type": "markdown",
   "id": "1a803369",
   "metadata": {},
   "source": [
    "# Lambda Function\n",
    "\n",
    "-We can also called it annonymous function\n",
    "\n",
    "-A function with no name "
   ]
  },
  {
   "cell_type": "code",
   "execution_count": 1,
   "id": "440492b9",
   "metadata": {},
   "outputs": [],
   "source": [
    "def addition(a,b):\n",
    "    return a+b"
   ]
  },
  {
   "cell_type": "code",
   "execution_count": 2,
   "id": "c50e7ba4",
   "metadata": {},
   "outputs": [
    {
     "data": {
      "text/plain": [
       "110"
      ]
     },
     "execution_count": 2,
     "metadata": {},
     "output_type": "execute_result"
    }
   ],
   "source": [
    "addition(45,65)"
   ]
  },
  {
   "cell_type": "code",
   "execution_count": 3,
   "id": "6e2ce927",
   "metadata": {},
   "outputs": [],
   "source": [
    "# If we just have to return a single expression then we can use lambda function."
   ]
  },
  {
   "cell_type": "code",
   "execution_count": 6,
   "id": "6eb301b4",
   "metadata": {},
   "outputs": [],
   "source": [
    "addition= lambda a,b:a+b\n",
    "\n",
    "#addition is a variable"
   ]
  },
  {
   "cell_type": "code",
   "execution_count": 8,
   "id": "4162386c",
   "metadata": {},
   "outputs": [
    {
     "data": {
      "text/plain": [
       "50"
      ]
     },
     "execution_count": 8,
     "metadata": {},
     "output_type": "execute_result"
    }
   ],
   "source": [
    "addition(16,34)"
   ]
  },
  {
   "cell_type": "code",
   "execution_count": 11,
   "id": "2521a61f",
   "metadata": {},
   "outputs": [],
   "source": [
    "# More examples-\n",
    "# Creating a function to check even \n",
    "\n",
    "def even(num):\n",
    "    if num%2==0:\n",
    "        return True"
   ]
  },
  {
   "cell_type": "code",
   "execution_count": 12,
   "id": "e2589cfe",
   "metadata": {},
   "outputs": [
    {
     "data": {
      "text/plain": [
       "True"
      ]
     },
     "execution_count": 12,
     "metadata": {},
     "output_type": "execute_result"
    }
   ],
   "source": [
    "even(6)"
   ]
  },
  {
   "cell_type": "code",
   "execution_count": 14,
   "id": "69c0d30a",
   "metadata": {},
   "outputs": [],
   "source": [
    "even1=lambda a:a%2==0"
   ]
  },
  {
   "cell_type": "code",
   "execution_count": 16,
   "id": "697ca30d",
   "metadata": {},
   "outputs": [
    {
     "data": {
      "text/plain": [
       "True"
      ]
     },
     "execution_count": 16,
     "metadata": {},
     "output_type": "execute_result"
    }
   ],
   "source": [
    "even1 (24)"
   ]
  },
  {
   "cell_type": "code",
   "execution_count": 17,
   "id": "2f09129f",
   "metadata": {},
   "outputs": [
    {
     "data": {
      "text/plain": [
       "False"
      ]
     },
     "execution_count": 17,
     "metadata": {},
     "output_type": "execute_result"
    }
   ],
   "source": [
    "even1(67)"
   ]
  },
  {
   "cell_type": "code",
   "execution_count": 18,
   "id": "18751834",
   "metadata": {},
   "outputs": [],
   "source": [
    "# one more example to addition of 3 numbers\n",
    "\n",
    "def add_num(x,y,z):\n",
    "    return x+y+z"
   ]
  },
  {
   "cell_type": "code",
   "execution_count": 19,
   "id": "5ec7c312",
   "metadata": {},
   "outputs": [
    {
     "data": {
      "text/plain": [
       "66"
      ]
     },
     "execution_count": 19,
     "metadata": {},
     "output_type": "execute_result"
    }
   ],
   "source": [
    "add_num(22,12,32)"
   ]
  },
  {
   "cell_type": "code",
   "execution_count": 21,
   "id": "4e9d6197",
   "metadata": {},
   "outputs": [],
   "source": [
    "add_three_num=lambda x,y,z:x+y+z"
   ]
  },
  {
   "cell_type": "code",
   "execution_count": 22,
   "id": "f5d28b65",
   "metadata": {},
   "outputs": [
    {
     "data": {
      "text/plain": [
       "63"
      ]
     },
     "execution_count": 22,
     "metadata": {},
     "output_type": "execute_result"
    }
   ],
   "source": [
    "add_three_num(11,21,31)"
   ]
  },
  {
   "cell_type": "code",
   "execution_count": null,
   "id": "3ca5bfe9",
   "metadata": {},
   "outputs": [],
   "source": []
  }
 ],
 "metadata": {
  "kernelspec": {
   "display_name": "Python 3 (ipykernel)",
   "language": "python",
   "name": "python3"
  },
  "language_info": {
   "codemirror_mode": {
    "name": "ipython",
    "version": 3
   },
   "file_extension": ".py",
   "mimetype": "text/x-python",
   "name": "python",
   "nbconvert_exporter": "python",
   "pygments_lexer": "ipython3",
   "version": "3.9.7"
  }
 },
 "nbformat": 4,
 "nbformat_minor": 5
}
