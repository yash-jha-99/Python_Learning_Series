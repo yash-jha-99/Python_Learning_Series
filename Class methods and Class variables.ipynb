{
 "cells": [
  {
   "cell_type": "markdown",
   "id": "d4bab8ea",
   "metadata": {},
   "source": [
    "# Class Methods and Class variables"
   ]
  },
  {
   "cell_type": "code",
   "execution_count": 3,
   "id": "6dfe1802",
   "metadata": {},
   "outputs": [],
   "source": [
    "class car:\n",
    "    base_price=100000 #class variable\n",
    "    def __init__(self,windows,doors,power):\n",
    "        self.windows=windows\n",
    "        self.doors=doors\n",
    "        self.power=power\n",
    "    def what_base_price(self):\n",
    "        print(\"The base price is {}\".format(self.base_price))"
   ]
  },
  {
   "cell_type": "code",
   "execution_count": 5,
   "id": "b055e656",
   "metadata": {},
   "outputs": [
    {
     "data": {
      "text/plain": [
       "100000"
      ]
     },
     "execution_count": 5,
     "metadata": {},
     "output_type": "execute_result"
    }
   ],
   "source": [
    "car1=car(4,4,2000)\n",
    "car1.base_price"
   ]
  },
  {
   "cell_type": "code",
   "execution_count": 6,
   "id": "e4d57f1d",
   "metadata": {},
   "outputs": [
    {
     "data": {
      "text/plain": [
       "100000"
      ]
     },
     "execution_count": 6,
     "metadata": {},
     "output_type": "execute_result"
    }
   ],
   "source": [
    "car.base_price"
   ]
  },
  {
   "cell_type": "code",
   "execution_count": 7,
   "id": "c4eeb96a",
   "metadata": {},
   "outputs": [],
   "source": [
    "#These two are the ways to access the class variable"
   ]
  },
  {
   "cell_type": "code",
   "execution_count": 14,
   "id": "e50f85f9",
   "metadata": {},
   "outputs": [],
   "source": [
    "class car:\n",
    "    base_price=100000 #class variable\n",
    "    def __init__(self,windows,doors,power):\n",
    "        self.windows=windows\n",
    "        self.doors=doors\n",
    "        self.power=power\n",
    "    def revise_base_price(self):\n",
    "        print(\"The base price is {}\".format(self.base_price))\n",
    "    @classmethod\n",
    "    def revised_base_price(cls,inflation):\n",
    "        cls.base_price=cls.base_price + cls.base_price * inflation"
   ]
  },
  {
   "cell_type": "code",
   "execution_count": 15,
   "id": "ff968449",
   "metadata": {},
   "outputs": [
    {
     "data": {
      "text/plain": [
       "100000"
      ]
     },
     "execution_count": 15,
     "metadata": {},
     "output_type": "execute_result"
    }
   ],
   "source": [
    "car.base_price"
   ]
  },
  {
   "cell_type": "code",
   "execution_count": 16,
   "id": "34146fbd",
   "metadata": {},
   "outputs": [],
   "source": [
    "car.revised_base_price(0.10)"
   ]
  },
  {
   "cell_type": "code",
   "execution_count": 17,
   "id": "94ec96f4",
   "metadata": {},
   "outputs": [
    {
     "data": {
      "text/plain": [
       "110000.0"
      ]
     },
     "execution_count": 17,
     "metadata": {},
     "output_type": "execute_result"
    }
   ],
   "source": [
    "car.base_price"
   ]
  },
  {
   "cell_type": "code",
   "execution_count": 18,
   "id": "edb053f9",
   "metadata": {},
   "outputs": [
    {
     "data": {
      "text/plain": [
       "121000.0"
      ]
     },
     "execution_count": 18,
     "metadata": {},
     "output_type": "execute_result"
    }
   ],
   "source": [
    "car.revised_base_price(0.10)\n",
    "car.base_price"
   ]
  },
  {
   "cell_type": "raw",
   "id": "6cec9b56",
   "metadata": {},
   "source": [
    "The above techneque is  good practice. @classmethod is known as decorator. there is also one more to access base_price, but that is not considered as good practice, We can find that below."
   ]
  },
  {
   "cell_type": "code",
   "execution_count": 20,
   "id": "2cd2262f",
   "metadata": {},
   "outputs": [
    {
     "data": {
      "text/plain": [
       "121000.0"
      ]
     },
     "execution_count": 20,
     "metadata": {},
     "output_type": "execute_result"
    }
   ],
   "source": [
    "car1=car(4,4,2000)\n",
    "car1.base_price"
   ]
  },
  {
   "cell_type": "code",
   "execution_count": 21,
   "id": "b7206538",
   "metadata": {},
   "outputs": [],
   "source": [
    "car1.revised_base_price(0.10)"
   ]
  },
  {
   "cell_type": "code",
   "execution_count": 23,
   "id": "3e897f8d",
   "metadata": {},
   "outputs": [
    {
     "data": {
      "text/plain": [
       "133100.0"
      ]
     },
     "execution_count": 23,
     "metadata": {},
     "output_type": "execute_result"
    }
   ],
   "source": [
    "car1.base_price"
   ]
  },
  {
   "cell_type": "code",
   "execution_count": null,
   "id": "9b8a9348",
   "metadata": {},
   "outputs": [],
   "source": []
  }
 ],
 "metadata": {
  "kernelspec": {
   "display_name": "Python 3 (ipykernel)",
   "language": "python",
   "name": "python3"
  },
  "language_info": {
   "codemirror_mode": {
    "name": "ipython",
    "version": 3
   },
   "file_extension": ".py",
   "mimetype": "text/x-python",
   "name": "python",
   "nbconvert_exporter": "python",
   "pygments_lexer": "ipython3",
   "version": "3.9.7"
  }
 },
 "nbformat": 4,
 "nbformat_minor": 5
}
