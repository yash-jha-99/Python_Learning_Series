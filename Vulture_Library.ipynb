{
 "cells": [
  {
   "cell_type": "markdown",
   "id": "a597ca85",
   "metadata": {},
   "source": [
    "## Vulture Library\n",
    "- Vulturte find unused code and dead code"
   ]
  },
  {
   "cell_type": "code",
   "execution_count": 2,
   "id": "2f0263db",
   "metadata": {
    "scrolled": true
   },
   "outputs": [
    {
     "name": "stdout",
     "output_type": "stream",
     "text": [
      "Requirement already satisfied: vulture in c:\\users\\yash.jha\\anaconda3\\lib\\site-packages (2.5)\n",
      "Requirement already satisfied: toml in c:\\users\\yash.jha\\anaconda3\\lib\\site-packages (from vulture) (0.10.2)\n"
     ]
    }
   ],
   "source": [
    "!pip install vulture"
   ]
  },
  {
   "cell_type": "code",
   "execution_count": 9,
   "id": "0c61dcbc",
   "metadata": {},
   "outputs": [],
   "source": [
    "#vulture fileName.format-- by using this we will be able to see the unused code on anaconda promt"
   ]
  },
  {
   "cell_type": "code",
   "execution_count": null,
   "id": "9e956ffa",
   "metadata": {},
   "outputs": [],
   "source": []
  }
 ],
 "metadata": {
  "kernelspec": {
   "display_name": "Python 3 (ipykernel)",
   "language": "python",
   "name": "python3"
  },
  "language_info": {
   "codemirror_mode": {
    "name": "ipython",
    "version": 3
   },
   "file_extension": ".py",
   "mimetype": "text/x-python",
   "name": "python",
   "nbconvert_exporter": "python",
   "pygments_lexer": "ipython3",
   "version": "3.9.7"
  }
 },
 "nbformat": 4,
 "nbformat_minor": 5
}
