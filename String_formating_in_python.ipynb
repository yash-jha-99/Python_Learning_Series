{
 "cells": [
  {
   "cell_type": "markdown",
   "id": "a4cfa209",
   "metadata": {},
   "source": [
    "# String formatting in python"
   ]
  },
  {
   "cell_type": "code",
   "execution_count": 1,
   "id": "e1bf87aa",
   "metadata": {},
   "outputs": [
    {
     "name": "stdout",
     "output_type": "stream",
     "text": [
      "Hello Yash\n"
     ]
    }
   ],
   "source": [
    "print(\"Hello Yash\")"
   ]
  },
  {
   "cell_type": "code",
   "execution_count": 2,
   "id": "54ec802b",
   "metadata": {},
   "outputs": [
    {
     "data": {
      "text/plain": [
       "'My name is Yash Jha.'"
      ]
     },
     "execution_count": 2,
     "metadata": {},
     "output_type": "execute_result"
    }
   ],
   "source": [
    "str=\"My name is Yash Jha.\"\n",
    "str"
   ]
  },
  {
   "cell_type": "code",
   "execution_count": 7,
   "id": "e412aa71",
   "metadata": {},
   "outputs": [],
   "source": [
    "def greetings(name):\n",
    "    return \"Hello {}. Welcome to the data community.\".format(name)"
   ]
  },
  {
   "cell_type": "code",
   "execution_count": 8,
   "id": "de78d5c9",
   "metadata": {},
   "outputs": [
    {
     "data": {
      "text/plain": [
       "'Hello Yash Jha. Welcome to the data community.'"
      ]
     },
     "execution_count": 8,
     "metadata": {},
     "output_type": "execute_result"
    }
   ],
   "source": [
    "greetings(\"Yash Jha\")"
   ]
  },
  {
   "cell_type": "code",
   "execution_count": 9,
   "id": "cbadd1d5",
   "metadata": {},
   "outputs": [],
   "source": [
    "# defining an another function\n",
    "def Welcome(name,age):\n",
    "    return \"Hello {}. Your age is {}\".format(name,age)"
   ]
  },
  {
   "cell_type": "code",
   "execution_count": 11,
   "id": "d9abbe1e",
   "metadata": {},
   "outputs": [
    {
     "data": {
      "text/plain": [
       "'Hello Yash Jha. Your age is 21'"
      ]
     },
     "execution_count": 11,
     "metadata": {},
     "output_type": "execute_result"
    }
   ],
   "source": [
    "Welcome('Yash Jha',21)"
   ]
  },
  {
   "cell_type": "code",
   "execution_count": 12,
   "id": "e18b8412",
   "metadata": {},
   "outputs": [],
   "source": [
    "def Welcome(name,age):\n",
    "    return \"Hello {}. Your age is {}\".format(age, name)"
   ]
  },
  {
   "cell_type": "code",
   "execution_count": 13,
   "id": "5b949135",
   "metadata": {},
   "outputs": [
    {
     "data": {
      "text/plain": [
       "'Hello 21. Your age is jha'"
      ]
     },
     "execution_count": 13,
     "metadata": {},
     "output_type": "execute_result"
    }
   ],
   "source": [
    "Welcome('jha',21)"
   ]
  },
  {
   "cell_type": "raw",
   "id": "3a77040e",
   "metadata": {},
   "source": [
    "We can see above if we put wrong order in format method then result will change. To overcome this we can use temporary variables"
   ]
  },
  {
   "cell_type": "code",
   "execution_count": 14,
   "id": "8dac8129",
   "metadata": {},
   "outputs": [],
   "source": [
    "def Welcome(name,age):\n",
    "    return \"Hello {name1}. Your age is {age1}\".format(age1=age,name1= name)"
   ]
  },
  {
   "cell_type": "code",
   "execution_count": 15,
   "id": "e365c912",
   "metadata": {},
   "outputs": [
    {
     "data": {
      "text/plain": [
       "'Hello Yash Jha. Your age is 22'"
      ]
     },
     "execution_count": 15,
     "metadata": {},
     "output_type": "execute_result"
    }
   ],
   "source": [
    "Welcome('Yash Jha', 22)"
   ]
  },
  {
   "cell_type": "code",
   "execution_count": null,
   "id": "73d43f06",
   "metadata": {},
   "outputs": [],
   "source": []
  }
 ],
 "metadata": {
  "kernelspec": {
   "display_name": "Python 3 (ipykernel)",
   "language": "python",
   "name": "python3"
  },
  "language_info": {
   "codemirror_mode": {
    "name": "ipython",
    "version": 3
   },
   "file_extension": ".py",
   "mimetype": "text/x-python",
   "name": "python",
   "nbconvert_exporter": "python",
   "pygments_lexer": "ipython3",
   "version": "3.9.7"
  }
 },
 "nbformat": 4,
 "nbformat_minor": 5
}
