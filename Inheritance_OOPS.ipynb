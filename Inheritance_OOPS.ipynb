{
 "cells": [
  {
   "cell_type": "markdown",
   "id": "9291928e",
   "metadata": {},
   "source": [
    "# Inheritance in python"
   ]
  },
  {
   "cell_type": "code",
   "execution_count": 13,
   "id": "269e80a0",
   "metadata": {},
   "outputs": [],
   "source": [
    "### All the class variables are public\n",
    "## car blueprint\n",
    "class Car():\n",
    "    def __init__(self,windows,doors,enginetype):\n",
    "        self.windows=windows\n",
    "        self.doors=doors\n",
    "        self.enginetype=enginetype\n",
    "    def drive(self):\n",
    "        print(\"The person drives the car\")"
   ]
  },
  {
   "cell_type": "code",
   "execution_count": 14,
   "id": "769c589b",
   "metadata": {},
   "outputs": [],
   "source": [
    "car=Car(4,5,'Diesel')"
   ]
  },
  {
   "cell_type": "code",
   "execution_count": 15,
   "id": "8fd8ccb8",
   "metadata": {},
   "outputs": [
    {
     "data": {
      "text/plain": [
       "4"
      ]
     },
     "execution_count": 15,
     "metadata": {},
     "output_type": "execute_result"
    }
   ],
   "source": [
    "car.windows"
   ]
  },
  {
   "cell_type": "code",
   "execution_count": 16,
   "id": "a9aa5a0f",
   "metadata": {},
   "outputs": [
    {
     "data": {
      "text/plain": [
       "5"
      ]
     },
     "execution_count": 16,
     "metadata": {},
     "output_type": "execute_result"
    }
   ],
   "source": [
    "car.doors"
   ]
  },
  {
   "cell_type": "code",
   "execution_count": 17,
   "id": "4c39cb3b",
   "metadata": {},
   "outputs": [
    {
     "data": {
      "text/plain": [
       "'Diesel'"
      ]
     },
     "execution_count": 17,
     "metadata": {},
     "output_type": "execute_result"
    }
   ],
   "source": [
    "car.enginetype"
   ]
  },
  {
   "cell_type": "code",
   "execution_count": 18,
   "id": "6166414d",
   "metadata": {},
   "outputs": [
    {
     "data": {
      "text/plain": [
       "['__class__',\n",
       " '__delattr__',\n",
       " '__dict__',\n",
       " '__dir__',\n",
       " '__doc__',\n",
       " '__eq__',\n",
       " '__format__',\n",
       " '__ge__',\n",
       " '__getattribute__',\n",
       " '__gt__',\n",
       " '__hash__',\n",
       " '__init__',\n",
       " '__init_subclass__',\n",
       " '__le__',\n",
       " '__lt__',\n",
       " '__module__',\n",
       " '__ne__',\n",
       " '__new__',\n",
       " '__reduce__',\n",
       " '__reduce_ex__',\n",
       " '__repr__',\n",
       " '__setattr__',\n",
       " '__sizeof__',\n",
       " '__str__',\n",
       " '__subclasshook__',\n",
       " '__weakref__',\n",
       " 'doors',\n",
       " 'drive',\n",
       " 'enginetype',\n",
       " 'windows']"
      ]
     },
     "execution_count": 18,
     "metadata": {},
     "output_type": "execute_result"
    }
   ],
   "source": [
    "dir(car)"
   ]
  },
  {
   "cell_type": "code",
   "execution_count": 20,
   "id": "a2efcb69",
   "metadata": {},
   "outputs": [
    {
     "name": "stdout",
     "output_type": "stream",
     "text": [
      "The person drives the car\n"
     ]
    }
   ],
   "source": [
    "car.drive()"
   ]
  },
  {
   "cell_type": "code",
   "execution_count": 21,
   "id": "3cc00879",
   "metadata": {},
   "outputs": [],
   "source": [
    "# Extending class car in audi class. i.e inheritance\n",
    "\n",
    "class Audi(Car):\n",
    "    def __init__(self,windows,doors,enginetype,enableai):\n",
    "        super().__init__(windows,doors,enginetype)\n",
    "        self.enableai=enableai\n",
    "    def selfDriving(self):\n",
    "        print(\"Audi supports auto driving\")"
   ]
  },
  {
   "cell_type": "code",
   "execution_count": 22,
   "id": "768bf434",
   "metadata": {},
   "outputs": [],
   "source": [
    "audiQ7=Audi(4,5,'Diesel', True)"
   ]
  },
  {
   "cell_type": "code",
   "execution_count": 23,
   "id": "c5815b55",
   "metadata": {},
   "outputs": [
    {
     "data": {
      "text/plain": [
       "['__class__',\n",
       " '__delattr__',\n",
       " '__dict__',\n",
       " '__dir__',\n",
       " '__doc__',\n",
       " '__eq__',\n",
       " '__format__',\n",
       " '__ge__',\n",
       " '__getattribute__',\n",
       " '__gt__',\n",
       " '__hash__',\n",
       " '__init__',\n",
       " '__init_subclass__',\n",
       " '__le__',\n",
       " '__lt__',\n",
       " '__module__',\n",
       " '__ne__',\n",
       " '__new__',\n",
       " '__reduce__',\n",
       " '__reduce_ex__',\n",
       " '__repr__',\n",
       " '__setattr__',\n",
       " '__sizeof__',\n",
       " '__str__',\n",
       " '__subclasshook__',\n",
       " '__weakref__',\n",
       " 'doors',\n",
       " 'drive',\n",
       " 'enableai',\n",
       " 'enginetype',\n",
       " 'selfDriving',\n",
       " 'windows']"
      ]
     },
     "execution_count": 23,
     "metadata": {},
     "output_type": "execute_result"
    }
   ],
   "source": [
    "dir(audiQ7)"
   ]
  },
  {
   "cell_type": "code",
   "execution_count": 24,
   "id": "ec197bbb",
   "metadata": {},
   "outputs": [
    {
     "data": {
      "text/plain": [
       "4"
      ]
     },
     "execution_count": 24,
     "metadata": {},
     "output_type": "execute_result"
    }
   ],
   "source": [
    "audiQ7.windows"
   ]
  },
  {
   "cell_type": "code",
   "execution_count": 25,
   "id": "c501a0ce",
   "metadata": {},
   "outputs": [
    {
     "data": {
      "text/plain": [
       "True"
      ]
     },
     "execution_count": 25,
     "metadata": {},
     "output_type": "execute_result"
    }
   ],
   "source": [
    "audiQ7.enableai"
   ]
  },
  {
   "cell_type": "code",
   "execution_count": 26,
   "id": "462fec8a",
   "metadata": {},
   "outputs": [
    {
     "data": {
      "text/plain": [
       "bool"
      ]
     },
     "execution_count": 26,
     "metadata": {},
     "output_type": "execute_result"
    }
   ],
   "source": [
    "type(audiQ7.enableai)"
   ]
  },
  {
   "cell_type": "code",
   "execution_count": 27,
   "id": "6b2e5da3",
   "metadata": {},
   "outputs": [
    {
     "data": {
      "text/plain": [
       "5"
      ]
     },
     "execution_count": 27,
     "metadata": {},
     "output_type": "execute_result"
    }
   ],
   "source": [
    "audiQ7.doors"
   ]
  },
  {
   "cell_type": "code",
   "execution_count": 31,
   "id": "16f43174",
   "metadata": {},
   "outputs": [
    {
     "name": "stdout",
     "output_type": "stream",
     "text": [
      "Audi supports auto driving\n"
     ]
    }
   ],
   "source": [
    "audiQ7.selfDriving()"
   ]
  },
  {
   "cell_type": "code",
   "execution_count": 32,
   "id": "b809b302",
   "metadata": {},
   "outputs": [
    {
     "name": "stdout",
     "output_type": "stream",
     "text": [
      "The person drives the car\n"
     ]
    }
   ],
   "source": [
    "audiQ7.drive()"
   ]
  },
  {
   "cell_type": "code",
   "execution_count": null,
   "id": "b620790e",
   "metadata": {},
   "outputs": [],
   "source": []
  }
 ],
 "metadata": {
  "kernelspec": {
   "display_name": "Python 3 (ipykernel)",
   "language": "python",
   "name": "python3"
  },
  "language_info": {
   "codemirror_mode": {
    "name": "ipython",
    "version": 3
   },
   "file_extension": ".py",
   "mimetype": "text/x-python",
   "name": "python",
   "nbconvert_exporter": "python",
   "pygments_lexer": "ipython3",
   "version": "3.9.7"
  }
 },
 "nbformat": 4,
 "nbformat_minor": 5
}
