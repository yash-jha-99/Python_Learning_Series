{
 "cells": [
  {
   "cell_type": "markdown",
   "id": "5df2e17c",
   "metadata": {},
   "source": [
    "### is keyword vs ==\n",
    "\n",
    "- is  VS  =="
   ]
  },
  {
   "cell_type": "code",
   "execution_count": 5,
   "id": "709f9d98",
   "metadata": {},
   "outputs": [
    {
     "data": {
      "text/plain": [
       "True"
      ]
     },
     "execution_count": 5,
     "metadata": {},
     "output_type": "execute_result"
    }
   ],
   "source": [
    "lst1=[\"Yash\",\"Jha\", \"Sourav\"]\n",
    "lst2=[\"Yash\",\"Jha\",\"Sourav\"]\n",
    "lst1==lst2"
   ]
  },
  {
   "cell_type": "code",
   "execution_count": 6,
   "id": "901fff58",
   "metadata": {},
   "outputs": [
    {
     "data": {
      "text/plain": [
       "True"
      ]
     },
     "execution_count": 6,
     "metadata": {},
     "output_type": "execute_result"
    }
   ],
   "source": [
    "a='Yash'\n",
    "b='Yash'\n",
    "a==b"
   ]
  },
  {
   "cell_type": "code",
   "execution_count": 7,
   "id": "296c9677",
   "metadata": {},
   "outputs": [
    {
     "data": {
      "text/plain": [
       "False"
      ]
     },
     "execution_count": 7,
     "metadata": {},
     "output_type": "execute_result"
    }
   ],
   "source": [
    "lst1 is lst2"
   ]
  },
  {
   "cell_type": "code",
   "execution_count": 8,
   "id": "db33d8e3",
   "metadata": {},
   "outputs": [],
   "source": [
    "lst1=[\"Yash\",\"Jha\", \"Sourav\"]\n",
    "lst2= lst1"
   ]
  },
  {
   "cell_type": "code",
   "execution_count": 9,
   "id": "c40aa33f",
   "metadata": {},
   "outputs": [
    {
     "data": {
      "text/plain": [
       "True"
      ]
     },
     "execution_count": 9,
     "metadata": {},
     "output_type": "execute_result"
    }
   ],
   "source": [
    "lst1 is lst2"
   ]
  },
  {
   "cell_type": "code",
   "execution_count": 10,
   "id": "881ea485",
   "metadata": {},
   "outputs": [
    {
     "data": {
      "text/plain": [
       "True"
      ]
     },
     "execution_count": 10,
     "metadata": {},
     "output_type": "execute_result"
    }
   ],
   "source": [
    "lst2 is lst1"
   ]
  },
  {
   "cell_type": "code",
   "execution_count": 12,
   "id": "03e18f7b",
   "metadata": {},
   "outputs": [],
   "source": [
    "lst2[0]='Changed'"
   ]
  },
  {
   "cell_type": "code",
   "execution_count": 13,
   "id": "2936edbc",
   "metadata": {},
   "outputs": [
    {
     "data": {
      "text/plain": [
       "['Changed', 'Jha', 'Sourav']"
      ]
     },
     "execution_count": 13,
     "metadata": {},
     "output_type": "execute_result"
    }
   ],
   "source": [
    "lst2"
   ]
  },
  {
   "cell_type": "code",
   "execution_count": 14,
   "id": "23d52150",
   "metadata": {},
   "outputs": [
    {
     "data": {
      "text/plain": [
       "['Changed', 'Jha', 'Sourav']"
      ]
     },
     "execution_count": 14,
     "metadata": {},
     "output_type": "execute_result"
    }
   ],
   "source": [
    "lst1"
   ]
  },
  {
   "cell_type": "code",
   "execution_count": null,
   "id": "27a7f797",
   "metadata": {},
   "outputs": [],
   "source": []
  }
 ],
 "metadata": {
  "kernelspec": {
   "display_name": "Python 3 (ipykernel)",
   "language": "python",
   "name": "python3"
  },
  "language_info": {
   "codemirror_mode": {
    "name": "ipython",
    "version": 3
   },
   "file_extension": ".py",
   "mimetype": "text/x-python",
   "name": "python",
   "nbconvert_exporter": "python",
   "pygments_lexer": "ipython3",
   "version": "3.9.7"
  }
 },
 "nbformat": 4,
 "nbformat_minor": 5
}
