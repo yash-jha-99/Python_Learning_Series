{
 "cells": [
  {
   "cell_type": "markdown",
   "id": "1d23593c",
   "metadata": {},
   "source": [
    "# Functions in python\n",
    "    "
   ]
  },
  {
   "cell_type": "code",
   "execution_count": 1,
   "id": "3934e37e",
   "metadata": {},
   "outputs": [],
   "source": [
    "def odd_even(num):\n",
    "    if num%2==0:\n",
    "        print('Even no.')\n",
    "    else:\n",
    "        print('Odd number')"
   ]
  },
  {
   "cell_type": "code",
   "execution_count": 2,
   "id": "cfd9cccc",
   "metadata": {},
   "outputs": [
    {
     "name": "stdout",
     "output_type": "stream",
     "text": [
      "Even no.\n"
     ]
    }
   ],
   "source": [
    "odd_even(24)"
   ]
  },
  {
   "cell_type": "code",
   "execution_count": 3,
   "id": "11f6fa32",
   "metadata": {},
   "outputs": [
    {
     "name": "stdout",
     "output_type": "stream",
     "text": [
      "Odd number\n"
     ]
    }
   ],
   "source": [
    "odd_even(31)"
   ]
  },
  {
   "cell_type": "code",
   "execution_count": 4,
   "id": "80e31df5",
   "metadata": {},
   "outputs": [
    {
     "name": "stdout",
     "output_type": "stream",
     "text": [
      "Even no.\n"
     ]
    }
   ],
   "source": [
    "odd_even(1024)"
   ]
  },
  {
   "cell_type": "code",
   "execution_count": 5,
   "id": "519526f5",
   "metadata": {},
   "outputs": [],
   "source": [
    "# print vs return\n",
    "def hello_world():\n",
    "    print(\"Hello Welcome to Python.\")"
   ]
  },
  {
   "cell_type": "code",
   "execution_count": 6,
   "id": "10a1fd26",
   "metadata": {},
   "outputs": [
    {
     "name": "stdout",
     "output_type": "stream",
     "text": [
      "Hello Welcome to Python.\n"
     ]
    }
   ],
   "source": [
    "hello_world()"
   ]
  },
  {
   "cell_type": "code",
   "execution_count": 7,
   "id": "5b81bdfd",
   "metadata": {},
   "outputs": [
    {
     "name": "stdout",
     "output_type": "stream",
     "text": [
      "Hello Welcome to Python.\n"
     ]
    }
   ],
   "source": [
    "val=hello_world()\n"
   ]
  },
  {
   "cell_type": "code",
   "execution_count": 8,
   "id": "9e3aa219",
   "metadata": {},
   "outputs": [
    {
     "name": "stdout",
     "output_type": "stream",
     "text": [
      "None\n"
     ]
    }
   ],
   "source": [
    "print(val) "
   ]
  },
  {
   "cell_type": "raw",
   "id": "57c4905f",
   "metadata": {},
   "source": [
    "So this is returning none. i.e there is no return type."
   ]
  },
  {
   "cell_type": "code",
   "execution_count": 9,
   "id": "cc0f65ed",
   "metadata": {},
   "outputs": [],
   "source": [
    "def hello():\n",
    "    return \"When we put spmething in return we can store that in an variable.\""
   ]
  },
  {
   "cell_type": "code",
   "execution_count": 10,
   "id": "924dbb37",
   "metadata": {},
   "outputs": [],
   "source": [
    "var=hello()\n"
   ]
  },
  {
   "cell_type": "code",
   "execution_count": 11,
   "id": "d090e044",
   "metadata": {},
   "outputs": [
    {
     "name": "stdout",
     "output_type": "stream",
     "text": [
      "When we put spmething in return we can store that in an variable.\n"
     ]
    }
   ],
   "source": [
    "print(var)"
   ]
  },
  {
   "cell_type": "code",
   "execution_count": 12,
   "id": "929fc465",
   "metadata": {},
   "outputs": [],
   "source": [
    "def add_number(num1,num2):\n",
    "    return num1+num2"
   ]
  },
  {
   "cell_type": "code",
   "execution_count": 13,
   "id": "a43b54ad",
   "metadata": {},
   "outputs": [],
   "source": [
    "val=add_number(22,38)"
   ]
  },
  {
   "cell_type": "code",
   "execution_count": 14,
   "id": "a09134be",
   "metadata": {},
   "outputs": [
    {
     "data": {
      "text/plain": [
       "60"
      ]
     },
     "execution_count": 14,
     "metadata": {},
     "output_type": "execute_result"
    }
   ],
   "source": [
    "val"
   ]
  },
  {
   "cell_type": "code",
   "execution_count": 15,
   "id": "875a6cee",
   "metadata": {},
   "outputs": [
    {
     "name": "stdout",
     "output_type": "stream",
     "text": [
      "60\n"
     ]
    }
   ],
   "source": [
    "print(val)"
   ]
  },
  {
   "cell_type": "code",
   "execution_count": 16,
   "id": "e08a7a00",
   "metadata": {},
   "outputs": [
    {
     "data": {
      "text/plain": [
       "int"
      ]
     },
     "execution_count": 16,
     "metadata": {},
     "output_type": "execute_result"
    }
   ],
   "source": [
    "type(val)"
   ]
  },
  {
   "cell_type": "code",
   "execution_count": 17,
   "id": "992af8ee",
   "metadata": {},
   "outputs": [],
   "source": [
    "#positional argument\n",
    "## keyword argument\n",
    "\n",
    "def hello(name,age=22):\n",
    "    print(\"My name is {} and age is {}\".format(name,age))\n"
   ]
  },
  {
   "cell_type": "code",
   "execution_count": 18,
   "id": "8b2e885a",
   "metadata": {},
   "outputs": [
    {
     "name": "stdout",
     "output_type": "stream",
     "text": [
      "My name is Yash and age is 22\n"
     ]
    }
   ],
   "source": [
    "hello('Yash')"
   ]
  },
  {
   "cell_type": "code",
   "execution_count": 19,
   "id": "a7a4ff0a",
   "metadata": {},
   "outputs": [],
   "source": [
    "def hello(*args, **kwargs):\n",
    "    print(args)\n",
    "    print(kwargs)"
   ]
  },
  {
   "cell_type": "code",
   "execution_count": 20,
   "id": "c2096cf2",
   "metadata": {},
   "outputs": [
    {
     "name": "stdout",
     "output_type": "stream",
     "text": [
      "('Yash', 'jha')\n",
      "{'age': 22, 'dob': 1999}\n"
     ]
    }
   ],
   "source": [
    "hello(\"Yash\", \"jha\", age=22, dob=1999)"
   ]
  },
  {
   "cell_type": "code",
   "execution_count": 21,
   "id": "ab72cff9",
   "metadata": {},
   "outputs": [],
   "source": [
    "lst=['Yash', 'jha']\n",
    "dict_args={'age': 22, 'dob': 1999}\n"
   ]
  },
  {
   "cell_type": "code",
   "execution_count": 22,
   "id": "69b15c3b",
   "metadata": {},
   "outputs": [
    {
     "name": "stdout",
     "output_type": "stream",
     "text": [
      "(['Yash', 'jha'], {'age': 22, 'dob': 1999})\n",
      "{}\n"
     ]
    }
   ],
   "source": [
    "hello(lst,dict_args)"
   ]
  },
  {
   "cell_type": "raw",
   "id": "7f524f2d",
   "metadata": {},
   "source": [
    "Here, we can see that by default hello function is taking both the arguments as args. So, to overcome this"
   ]
  },
  {
   "cell_type": "code",
   "execution_count": 23,
   "id": "4964f55d",
   "metadata": {},
   "outputs": [
    {
     "name": "stdout",
     "output_type": "stream",
     "text": [
      "('Yash', 'jha')\n",
      "{'age': 22, 'dob': 1999}\n"
     ]
    }
   ],
   "source": [
    "hello(*lst,**dict_args)"
   ]
  },
  {
   "cell_type": "code",
   "execution_count": 24,
   "id": "40d32325",
   "metadata": {},
   "outputs": [],
   "source": [
    "# Returning two different values inside a function"
   ]
  },
  {
   "cell_type": "code",
   "execution_count": 25,
   "id": "d8acf77d",
   "metadata": {},
   "outputs": [],
   "source": [
    "lst=[1,2,3,4,5,6,7,8]"
   ]
  },
  {
   "cell_type": "code",
   "execution_count": 26,
   "id": "0f4f0f9f",
   "metadata": {},
   "outputs": [],
   "source": [
    "def evenOddSum(lst):\n",
    "    even_sum=0\n",
    "    odd_sum=0\n",
    "    for i in lst:\n",
    "        if i%2==0:\n",
    "            even_sum=even_sum+i\n",
    "        else:\n",
    "            odd_sum=odd_sum+i\n",
    "    return even_sum,odd_sum\n",
    "            "
   ]
  },
  {
   "cell_type": "code",
   "execution_count": 27,
   "id": "2125cc20",
   "metadata": {},
   "outputs": [
    {
     "data": {
      "text/plain": [
       "(20, 16)"
      ]
     },
     "execution_count": 27,
     "metadata": {},
     "output_type": "execute_result"
    }
   ],
   "source": [
    "evenOddSum(lst)"
   ]
  },
  {
   "cell_type": "code",
   "execution_count": null,
   "id": "74b5b4b8",
   "metadata": {},
   "outputs": [],
   "source": []
  }
 ],
 "metadata": {
  "kernelspec": {
   "display_name": "Python 3 (ipykernel)",
   "language": "python",
   "name": "python3"
  },
  "language_info": {
   "codemirror_mode": {
    "name": "ipython",
    "version": 3
   },
   "file_extension": ".py",
   "mimetype": "text/x-python",
   "name": "python",
   "nbconvert_exporter": "python",
   "pygments_lexer": "ipython3",
   "version": "3.9.7"
  }
 },
 "nbformat": 4,
 "nbformat_minor": 5
}
