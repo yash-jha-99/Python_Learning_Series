{
 "cells": [
  {
   "cell_type": "markdown",
   "id": "97c0f63f",
   "metadata": {},
   "source": [
    "## OOPS- Multiple inheritance in python"
   ]
  },
  {
   "cell_type": "code",
   "execution_count": 2,
   "id": "00b4c538",
   "metadata": {},
   "outputs": [],
   "source": [
    "class A:\n",
    "    def method1(self):\n",
    "        print(\"A class method is called\")"
   ]
  },
  {
   "cell_type": "code",
   "execution_count": 14,
   "id": "cd96d1bb",
   "metadata": {},
   "outputs": [],
   "source": [
    "class B(A):\n",
    "    def method1(self):\n",
    "        print(\"B class method is called\")\n",
    "    def method2(self):\n",
    "        print(\"B class method is getting called\")\n",
    "            "
   ]
  },
  {
   "cell_type": "code",
   "execution_count": 15,
   "id": "3b7ea6c3",
   "metadata": {},
   "outputs": [],
   "source": [
    "class C(A):\n",
    "    def method1(self):\n",
    "        print(\"C class method is called\")"
   ]
  },
  {
   "cell_type": "code",
   "execution_count": 16,
   "id": "d5b58f3d",
   "metadata": {},
   "outputs": [],
   "source": [
    "#When we are inheriting from two or more base classes then it is known as multiple inheritance.\n",
    "class D(B,C):\n",
    "    def method1(self):\n",
    "        print(\"D class methos is getting called\")"
   ]
  },
  {
   "cell_type": "code",
   "execution_count": 17,
   "id": "6017a668",
   "metadata": {},
   "outputs": [
    {
     "name": "stdout",
     "output_type": "stream",
     "text": [
      "D class methos is getting called\n"
     ]
    }
   ],
   "source": [
    "d=D()\n",
    "d.method1()"
   ]
  },
  {
   "cell_type": "code",
   "execution_count": 18,
   "id": "2b15ef87",
   "metadata": {},
   "outputs": [
    {
     "name": "stdout",
     "output_type": "stream",
     "text": [
      "B class method is getting called\n"
     ]
    }
   ],
   "source": [
    "d.method2()"
   ]
  },
  {
   "cell_type": "code",
   "execution_count": 20,
   "id": "6e25134d",
   "metadata": {},
   "outputs": [
    {
     "name": "stdout",
     "output_type": "stream",
     "text": [
      "B class method is called\n"
     ]
    }
   ],
   "source": [
    "B.method1(d)"
   ]
  },
  {
   "cell_type": "code",
   "execution_count": 21,
   "id": "1c739e00",
   "metadata": {},
   "outputs": [
    {
     "name": "stdout",
     "output_type": "stream",
     "text": [
      "A class method is called\n"
     ]
    }
   ],
   "source": [
    "A.method1(d)"
   ]
  },
  {
   "cell_type": "code",
   "execution_count": 22,
   "id": "c79db9b3",
   "metadata": {},
   "outputs": [],
   "source": [
    "class E(D):\n",
    "    def method1(self):\n",
    "        print(\"E method is called\")\n",
    "        D.method1(self)\n",
    "        C.method1(self)\n",
    "        B.method1(self)\n",
    "        A.method1(self)"
   ]
  },
  {
   "cell_type": "code",
   "execution_count": 23,
   "id": "c76d1768",
   "metadata": {},
   "outputs": [],
   "source": [
    "e=E()"
   ]
  },
  {
   "cell_type": "code",
   "execution_count": 24,
   "id": "808c81f9",
   "metadata": {},
   "outputs": [
    {
     "name": "stdout",
     "output_type": "stream",
     "text": [
      "E method is called\n",
      "D class methos is getting called\n",
      "C class method is called\n",
      "B class method is called\n",
      "A class method is called\n"
     ]
    }
   ],
   "source": [
    "e.method1()"
   ]
  },
  {
   "cell_type": "code",
   "execution_count": null,
   "id": "04c38fc1",
   "metadata": {},
   "outputs": [],
   "source": []
  }
 ],
 "metadata": {
  "kernelspec": {
   "display_name": "Python 3 (ipykernel)",
   "language": "python",
   "name": "python3"
  },
  "language_info": {
   "codemirror_mode": {
    "name": "ipython",
    "version": 3
   },
   "file_extension": ".py",
   "mimetype": "text/x-python",
   "name": "python",
   "nbconvert_exporter": "python",
   "pygments_lexer": "ipython3",
   "version": "3.9.7"
  }
 },
 "nbformat": 4,
 "nbformat_minor": 5
}
