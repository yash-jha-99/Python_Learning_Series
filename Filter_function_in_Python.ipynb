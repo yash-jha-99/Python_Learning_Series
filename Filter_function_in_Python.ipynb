{
 "cells": [
  {
   "cell_type": "markdown",
   "id": "52221db5",
   "metadata": {},
   "source": [
    "# Filter function in python"
   ]
  },
  {
   "cell_type": "code",
   "execution_count": 3,
   "id": "4ead7a5d",
   "metadata": {},
   "outputs": [],
   "source": [
    "def even(num):\n",
    "    if num%2==0:\n",
    "        return True"
   ]
  },
  {
   "cell_type": "code",
   "execution_count": 4,
   "id": "4b045b76",
   "metadata": {},
   "outputs": [],
   "source": [
    "lst=[1,2,3,4,5,6,7,8,9,0,67,56,34]"
   ]
  },
  {
   "cell_type": "code",
   "execution_count": 6,
   "id": "35570bd1",
   "metadata": {},
   "outputs": [
    {
     "data": {
      "text/plain": [
       "[2, 4, 6, 8, 0, 56, 34]"
      ]
     },
     "execution_count": 6,
     "metadata": {},
     "output_type": "execute_result"
    }
   ],
   "source": [
    "list(filter(even,lst))"
   ]
  },
  {
   "cell_type": "code",
   "execution_count": 9,
   "id": "2da162e6",
   "metadata": {},
   "outputs": [
    {
     "data": {
      "text/plain": [
       "[2, 4, 6, 8, 0, 56, 34]"
      ]
     },
     "execution_count": 9,
     "metadata": {},
     "output_type": "execute_result"
    }
   ],
   "source": [
    "# using lambda function\n",
    "\n",
    "list(filter(lambda num:num%2==0 ,lst))"
   ]
  },
  {
   "cell_type": "code",
   "execution_count": 10,
   "id": "7cf18164",
   "metadata": {},
   "outputs": [
    {
     "data": {
      "text/plain": [
       "[False,\n",
       " True,\n",
       " False,\n",
       " True,\n",
       " False,\n",
       " True,\n",
       " False,\n",
       " True,\n",
       " False,\n",
       " True,\n",
       " False,\n",
       " True,\n",
       " True]"
      ]
     },
     "execution_count": 10,
     "metadata": {},
     "output_type": "execute_result"
    }
   ],
   "source": [
    "# If we use map function instead of filter\n",
    "\n",
    "list(map(lambda num:num%2==0 ,lst))"
   ]
  },
  {
   "cell_type": "markdown",
   "id": "e65a02e9",
   "metadata": {},
   "source": [
    "So, Here we can see the difference between filter and map function"
   ]
  }
 ],
 "metadata": {
  "kernelspec": {
   "display_name": "Python 3 (ipykernel)",
   "language": "python",
   "name": "python3"
  },
  "language_info": {
   "codemirror_mode": {
    "name": "ipython",
    "version": 3
   },
   "file_extension": ".py",
   "mimetype": "text/x-python",
   "name": "python",
   "nbconvert_exporter": "python",
   "pygments_lexer": "ipython3",
   "version": "3.9.7"
  }
 },
 "nbformat": 4,
 "nbformat_minor": 5
}
