{
 "cells": [
  {
   "cell_type": "markdown",
   "id": "d9437050",
   "metadata": {},
   "source": [
    "# Boolean variables, LIST, SETS, DICTIONARIES AND TUPLES"
   ]
  },
  {
   "cell_type": "code",
   "execution_count": 1,
   "id": "77718834",
   "metadata": {},
   "outputs": [
    {
     "data": {
      "text/plain": [
       "True"
      ]
     },
     "execution_count": 1,
     "metadata": {},
     "output_type": "execute_result"
    }
   ],
   "source": [
    "True"
   ]
  },
  {
   "cell_type": "code",
   "execution_count": 2,
   "id": "68c772e8",
   "metadata": {},
   "outputs": [
    {
     "data": {
      "text/plain": [
       "False"
      ]
     },
     "execution_count": 2,
     "metadata": {},
     "output_type": "execute_result"
    }
   ],
   "source": [
    "False"
   ]
  },
  {
   "cell_type": "code",
   "execution_count": 3,
   "id": "c2fcf1ea",
   "metadata": {},
   "outputs": [
    {
     "name": "stdout",
     "output_type": "stream",
     "text": [
      "True False\n"
     ]
    }
   ],
   "source": [
    "print(True,False)"
   ]
  },
  {
   "cell_type": "code",
   "execution_count": 4,
   "id": "985ff34c",
   "metadata": {},
   "outputs": [
    {
     "data": {
      "text/plain": [
       "bool"
      ]
     },
     "execution_count": 4,
     "metadata": {},
     "output_type": "execute_result"
    }
   ],
   "source": [
    "type(True)"
   ]
  },
  {
   "cell_type": "code",
   "execution_count": 5,
   "id": "164bf33d",
   "metadata": {},
   "outputs": [
    {
     "data": {
      "text/plain": [
       "bool"
      ]
     },
     "execution_count": 5,
     "metadata": {},
     "output_type": "execute_result"
    }
   ],
   "source": [
    "type(False)"
   ]
  },
  {
   "cell_type": "code",
   "execution_count": 6,
   "id": "4a2ec851",
   "metadata": {},
   "outputs": [],
   "source": [
    "my_str='Yash Jha'"
   ]
  },
  {
   "cell_type": "code",
   "execution_count": 8,
   "id": "0d349763",
   "metadata": {},
   "outputs": [
    {
     "data": {
      "text/plain": [
       "'Yash jha'"
      ]
     },
     "execution_count": 8,
     "metadata": {},
     "output_type": "execute_result"
    }
   ],
   "source": [
    "my_str.capitalize()"
   ]
  },
  {
   "cell_type": "code",
   "execution_count": 9,
   "id": "14368e92",
   "metadata": {},
   "outputs": [
    {
     "data": {
      "text/plain": [
       "False"
      ]
     },
     "execution_count": 9,
     "metadata": {},
     "output_type": "execute_result"
    }
   ],
   "source": [
    "my_str.isalnum()"
   ]
  },
  {
   "cell_type": "code",
   "execution_count": 10,
   "id": "dbabc558",
   "metadata": {},
   "outputs": [
    {
     "name": "stdout",
     "output_type": "stream",
     "text": [
      "False\n",
      "False\n",
      "False\n",
      "True\n",
      "False\n",
      "False\n",
      "False\n",
      "True\n",
      "True\n"
     ]
    }
   ],
   "source": [
    "print(my_str.isalnum()) #check if all char are numbers\n",
    "print(my_str.isalpha()) #check if all char in the string are alphabetic\n",
    "print(my_str.isdigit()) #test if string contains digits\n",
    "print(my_str.istitle()) #test if string contains title words\n",
    "print(my_str.isupper()) #test if string contains upper case\n",
    "print(my_str.islower()) #test if string contains lower case\n",
    "print(my_str.isspace()) #test if string contains spaces\n",
    "print(my_str.endswith('a')) #test if string endswith a d\n",
    "print(my_str.startswith('Y')) #test if string startswith H"
   ]
  },
  {
   "cell_type": "raw",
   "id": "b0cc5019",
   "metadata": {},
   "source": [
    "STRINGS"
   ]
  },
  {
   "cell_type": "code",
   "execution_count": 1,
   "id": "73e850e3",
   "metadata": {},
   "outputs": [],
   "source": [
    "s='apple'"
   ]
  },
  {
   "cell_type": "code",
   "execution_count": 4,
   "id": "876a3cf5",
   "metadata": {},
   "outputs": [
    {
     "name": "stdout",
     "output_type": "stream",
     "text": [
      "Apple\n"
     ]
    }
   ],
   "source": [
    "print(s.capitalize())"
   ]
  },
  {
   "cell_type": "code",
   "execution_count": 5,
   "id": "eaeca1bd",
   "metadata": {},
   "outputs": [
    {
     "data": {
      "text/plain": [
       "'Apple'"
      ]
     },
     "execution_count": 5,
     "metadata": {},
     "output_type": "execute_result"
    }
   ],
   "source": [
    "s.capitalize()"
   ]
  },
  {
   "cell_type": "code",
   "execution_count": 6,
   "id": "9ba78c7e",
   "metadata": {},
   "outputs": [
    {
     "data": {
      "text/plain": [
       "'apple'"
      ]
     },
     "execution_count": 6,
     "metadata": {},
     "output_type": "execute_result"
    }
   ],
   "source": [
    "s.casefold()"
   ]
  },
  {
   "cell_type": "code",
   "execution_count": 13,
   "id": "8a299621",
   "metadata": {},
   "outputs": [
    {
     "data": {
      "text/plain": [
       "'55apple555'"
      ]
     },
     "execution_count": 13,
     "metadata": {},
     "output_type": "execute_result"
    }
   ],
   "source": [
    "s.center(10,\"5\") #centre will take 1st argument as width and 2nd argument that u want to string align with."
   ]
  },
  {
   "cell_type": "code",
   "execution_count": 19,
   "id": "16294a21",
   "metadata": {},
   "outputs": [
    {
     "data": {
      "text/plain": [
       "'8888888apple88888888'"
      ]
     },
     "execution_count": 19,
     "metadata": {},
     "output_type": "execute_result"
    }
   ],
   "source": [
    "s.center(20,'8')"
   ]
  },
  {
   "cell_type": "code",
   "execution_count": 25,
   "id": "a51e90ea",
   "metadata": {},
   "outputs": [
    {
     "data": {
      "text/plain": [
       "'*******apple********'"
      ]
     },
     "execution_count": 25,
     "metadata": {},
     "output_type": "execute_result"
    }
   ],
   "source": [
    "s.center(20,'*') # the 2nd argument always should be one character long."
   ]
  },
  {
   "cell_type": "code",
   "execution_count": 26,
   "id": "a886e4b0",
   "metadata": {},
   "outputs": [
    {
     "data": {
      "text/plain": [
       "True"
      ]
     },
     "execution_count": 26,
     "metadata": {},
     "output_type": "execute_result"
    }
   ],
   "source": [
    "s.islower()"
   ]
  },
  {
   "cell_type": "raw",
   "id": "12c459a1",
   "metadata": {},
   "source": [
    "BOOLEAN AND LOGICAL OPERATORS"
   ]
  },
  {
   "cell_type": "code",
   "execution_count": 27,
   "id": "00602ddf",
   "metadata": {},
   "outputs": [
    {
     "data": {
      "text/plain": [
       "True"
      ]
     },
     "execution_count": 27,
     "metadata": {},
     "output_type": "execute_result"
    }
   ],
   "source": [
    "True and True"
   ]
  },
  {
   "cell_type": "code",
   "execution_count": 29,
   "id": "9e75a6ac",
   "metadata": {},
   "outputs": [
    {
     "data": {
      "text/plain": [
       "False"
      ]
     },
     "execution_count": 29,
     "metadata": {},
     "output_type": "execute_result"
    }
   ],
   "source": [
    "True and False"
   ]
  },
  {
   "cell_type": "code",
   "execution_count": 30,
   "id": "7153e3fe",
   "metadata": {},
   "outputs": [
    {
     "data": {
      "text/plain": [
       "False"
      ]
     },
     "execution_count": 30,
     "metadata": {},
     "output_type": "execute_result"
    }
   ],
   "source": [
    "False and True"
   ]
  },
  {
   "cell_type": "code",
   "execution_count": 31,
   "id": "366a2b73",
   "metadata": {},
   "outputs": [
    {
     "data": {
      "text/plain": [
       "False"
      ]
     },
     "execution_count": 31,
     "metadata": {},
     "output_type": "execute_result"
    }
   ],
   "source": [
    "False and False"
   ]
  },
  {
   "cell_type": "code",
   "execution_count": 32,
   "id": "650070b9",
   "metadata": {},
   "outputs": [
    {
     "data": {
      "text/plain": [
       "True"
      ]
     },
     "execution_count": 32,
     "metadata": {},
     "output_type": "execute_result"
    }
   ],
   "source": [
    "True or True"
   ]
  },
  {
   "cell_type": "code",
   "execution_count": 33,
   "id": "66cb503f",
   "metadata": {},
   "outputs": [
    {
     "data": {
      "text/plain": [
       "True"
      ]
     },
     "execution_count": 33,
     "metadata": {},
     "output_type": "execute_result"
    }
   ],
   "source": [
    "True or False"
   ]
  },
  {
   "cell_type": "code",
   "execution_count": 38,
   "id": "97e024fe",
   "metadata": {},
   "outputs": [],
   "source": [
    "my_str='Yash_Jha'\n",
    "string='Hello'"
   ]
  },
  {
   "cell_type": "code",
   "execution_count": 40,
   "id": "7bc5ebce",
   "metadata": {},
   "outputs": [
    {
     "name": "stdout",
     "output_type": "stream",
     "text": [
      "True\n"
     ]
    }
   ],
   "source": [
    "print(my_str.isalpha() or string.isalnum())"
   ]
  },
  {
   "cell_type": "code",
   "execution_count": 43,
   "id": "814fcc3e",
   "metadata": {},
   "outputs": [
    {
     "data": {
      "text/plain": [
       "True"
      ]
     },
     "execution_count": 43,
     "metadata": {},
     "output_type": "execute_result"
    }
   ],
   "source": [
    "my_str.isalpha() or string.isalnum()"
   ]
  },
  {
   "cell_type": "markdown",
   "id": "3bd753d8",
   "metadata": {},
   "source": [
    "# LIST"
   ]
  },
  {
   "cell_type": "code",
   "execution_count": 44,
   "id": "153413d9",
   "metadata": {},
   "outputs": [],
   "source": [
    "l=[]"
   ]
  },
  {
   "cell_type": "code",
   "execution_count": 45,
   "id": "921e2dc0",
   "metadata": {},
   "outputs": [
    {
     "data": {
      "text/plain": [
       "list"
      ]
     },
     "execution_count": 45,
     "metadata": {},
     "output_type": "execute_result"
    }
   ],
   "source": [
    "type(l)"
   ]
  },
  {
   "cell_type": "code",
   "execution_count": 46,
   "id": "ccac5514",
   "metadata": {},
   "outputs": [
    {
     "data": {
      "text/plain": [
       "list"
      ]
     },
     "execution_count": 46,
     "metadata": {},
     "output_type": "execute_result"
    }
   ],
   "source": [
    "type([])"
   ]
  },
  {
   "cell_type": "code",
   "execution_count": 47,
   "id": "fb7224fc",
   "metadata": {},
   "outputs": [],
   "source": [
    "lst=list()"
   ]
  },
  {
   "cell_type": "code",
   "execution_count": 48,
   "id": "4947f52f",
   "metadata": {},
   "outputs": [
    {
     "data": {
      "text/plain": [
       "list"
      ]
     },
     "execution_count": 48,
     "metadata": {},
     "output_type": "execute_result"
    }
   ],
   "source": [
    "type(lst)"
   ]
  },
  {
   "cell_type": "code",
   "execution_count": 49,
   "id": "c74c1eec",
   "metadata": {},
   "outputs": [],
   "source": [
    "list=['Apple','Orange','Guava','100','200']"
   ]
  },
  {
   "cell_type": "code",
   "execution_count": 50,
   "id": "bd77da54",
   "metadata": {},
   "outputs": [
    {
     "data": {
      "text/plain": [
       "list"
      ]
     },
     "execution_count": 50,
     "metadata": {},
     "output_type": "execute_result"
    }
   ],
   "source": [
    "type(list)"
   ]
  },
  {
   "cell_type": "code",
   "execution_count": 51,
   "id": "c87b8465",
   "metadata": {},
   "outputs": [
    {
     "data": {
      "text/plain": [
       "'Orange'"
      ]
     },
     "execution_count": 51,
     "metadata": {},
     "output_type": "execute_result"
    }
   ],
   "source": [
    "list[1]"
   ]
  },
  {
   "cell_type": "code",
   "execution_count": 52,
   "id": "123f0942",
   "metadata": {},
   "outputs": [
    {
     "data": {
      "text/plain": [
       "5"
      ]
     },
     "execution_count": 52,
     "metadata": {},
     "output_type": "execute_result"
    }
   ],
   "source": [
    "len(list)"
   ]
  },
  {
   "cell_type": "markdown",
   "id": "d78d429c",
   "metadata": {},
   "source": [
    "append function"
   ]
  },
  {
   "cell_type": "code",
   "execution_count": 54,
   "id": "b7e19e61",
   "metadata": {},
   "outputs": [],
   "source": [
    "list.append('Yash')"
   ]
  },
  {
   "cell_type": "code",
   "execution_count": 55,
   "id": "f04b4efc",
   "metadata": {},
   "outputs": [
    {
     "data": {
      "text/plain": [
       "['Apple', 'Orange', 'Guava', '100', '200', 'Yash']"
      ]
     },
     "execution_count": 55,
     "metadata": {},
     "output_type": "execute_result"
    }
   ],
   "source": [
    "list"
   ]
  },
  {
   "cell_type": "code",
   "execution_count": 56,
   "id": "8dbf0105",
   "metadata": {},
   "outputs": [
    {
     "data": {
      "text/plain": [
       "['Apple', 'Orange', 'Guava', '100', '200', 'Yash']"
      ]
     },
     "execution_count": 56,
     "metadata": {},
     "output_type": "execute_result"
    }
   ],
   "source": [
    "list[:]"
   ]
  },
  {
   "cell_type": "code",
   "execution_count": 57,
   "id": "80569942",
   "metadata": {},
   "outputs": [
    {
     "data": {
      "text/plain": [
       "['Orange', 'Guava', '100', '200', 'Yash']"
      ]
     },
     "execution_count": 57,
     "metadata": {},
     "output_type": "execute_result"
    }
   ],
   "source": [
    "list[1:]"
   ]
  },
  {
   "cell_type": "code",
   "execution_count": 58,
   "id": "8480e40e",
   "metadata": {},
   "outputs": [
    {
     "data": {
      "text/plain": [
       "['Orange', 'Guava', '100']"
      ]
     },
     "execution_count": 58,
     "metadata": {},
     "output_type": "execute_result"
    }
   ],
   "source": [
    "list[1:4]"
   ]
  },
  {
   "cell_type": "code",
   "execution_count": 59,
   "id": "6ae78cf8",
   "metadata": {},
   "outputs": [],
   "source": [
    "list.append(['bala','tripathi'])"
   ]
  },
  {
   "cell_type": "code",
   "execution_count": 60,
   "id": "84a07f29",
   "metadata": {},
   "outputs": [
    {
     "name": "stdout",
     "output_type": "stream",
     "text": [
      "['Apple', 'Orange', 'Guava', '100', '200', 'Yash', ['bala', 'tripathi']]\n"
     ]
    }
   ],
   "source": [
    "print(list)"
   ]
  },
  {
   "cell_type": "code",
   "execution_count": 61,
   "id": "d1b5436e",
   "metadata": {},
   "outputs": [],
   "source": [
    "#append is basically for add the value at last but if you want to add any  value at any specific place then we can use insert function."
   ]
  },
  {
   "cell_type": "markdown",
   "id": "4f42ee2a",
   "metadata": {},
   "source": [
    "INSERT"
   ]
  },
  {
   "cell_type": "code",
   "execution_count": 62,
   "id": "37a656fc",
   "metadata": {},
   "outputs": [],
   "source": [
    "list.insert(1,'inserted')"
   ]
  },
  {
   "cell_type": "code",
   "execution_count": 63,
   "id": "ad504461",
   "metadata": {},
   "outputs": [
    {
     "data": {
      "text/plain": [
       "['Apple',\n",
       " 'inserted',\n",
       " 'Orange',\n",
       " 'Guava',\n",
       " '100',\n",
       " '200',\n",
       " 'Yash',\n",
       " ['bala', 'tripathi']]"
      ]
     },
     "execution_count": 63,
     "metadata": {},
     "output_type": "execute_result"
    }
   ],
   "source": [
    "list"
   ]
  },
  {
   "cell_type": "code",
   "execution_count": 64,
   "id": "8540288f",
   "metadata": {},
   "outputs": [
    {
     "name": "stdout",
     "output_type": "stream",
     "text": [
      "['Apple', 'inserted', 'Orange', 'Guava', '100', '200', 'Yash', ['bala', 'tripathi']]\n"
     ]
    }
   ],
   "source": [
    "print(list)"
   ]
  },
  {
   "cell_type": "markdown",
   "id": "c976baab",
   "metadata": {},
   "source": [
    "Extend method"
   ]
  },
  {
   "cell_type": "code",
   "execution_count": 65,
   "id": "658e4b07",
   "metadata": {},
   "outputs": [],
   "source": [
    "new_list=['1','2','3','4','5','6',]"
   ]
  },
  {
   "cell_type": "code",
   "execution_count": 66,
   "id": "fecc13bf",
   "metadata": {},
   "outputs": [
    {
     "data": {
      "text/plain": [
       "['1', '2', '3', '4', '5', '6']"
      ]
     },
     "execution_count": 66,
     "metadata": {},
     "output_type": "execute_result"
    }
   ],
   "source": [
    "new_list"
   ]
  },
  {
   "cell_type": "code",
   "execution_count": 67,
   "id": "3d98c31e",
   "metadata": {},
   "outputs": [],
   "source": [
    "new_list.extend(['8','9'])"
   ]
  },
  {
   "cell_type": "code",
   "execution_count": 69,
   "id": "b805a9cc",
   "metadata": {},
   "outputs": [
    {
     "data": {
      "text/plain": [
       "['1', '2', '3', '4', '5', '6', '8', '9']"
      ]
     },
     "execution_count": 69,
     "metadata": {},
     "output_type": "execute_result"
    }
   ],
   "source": [
    "new_list"
   ]
  },
  {
   "cell_type": "raw",
   "id": "6c1729f6",
   "metadata": {},
   "source": [
    "Various operation that we can perform in list"
   ]
  },
  {
   "cell_type": "code",
   "execution_count": 71,
   "id": "9df24814",
   "metadata": {},
   "outputs": [
    {
     "data": {
      "text/plain": [
       "['1', '2', '3', '4', '5', '6', '8', '9']"
      ]
     },
     "execution_count": 71,
     "metadata": {},
     "output_type": "execute_result"
    }
   ],
   "source": [
    "new_list"
   ]
  },
  {
   "cell_type": "code",
   "execution_count": 75,
   "id": "5f45ac0e",
   "metadata": {},
   "outputs": [
    {
     "ename": "TypeError",
     "evalue": "unsupported operand type(s) for +: 'int' and 'str'",
     "output_type": "error",
     "traceback": [
      "\u001b[1;31m---------------------------------------------------------------------------\u001b[0m",
      "\u001b[1;31mTypeError\u001b[0m                                 Traceback (most recent call last)",
      "\u001b[1;32m~\\AppData\\Local\\Temp/ipykernel_10280/2454522210.py\u001b[0m in \u001b[0;36m<module>\u001b[1;34m\u001b[0m\n\u001b[1;32m----> 1\u001b[1;33m \u001b[0msum\u001b[0m\u001b[1;33m(\u001b[0m\u001b[0mnew_list\u001b[0m\u001b[1;33m)\u001b[0m\u001b[1;33m\u001b[0m\u001b[1;33m\u001b[0m\u001b[0m\n\u001b[0m",
      "\u001b[1;31mTypeError\u001b[0m: unsupported operand type(s) for +: 'int' and 'str'"
     ]
    }
   ],
   "source": [
    "sum(new_list)"
   ]
  },
  {
   "cell_type": "code",
   "execution_count": 76,
   "id": "5a9c93ef",
   "metadata": {},
   "outputs": [],
   "source": [
    "l=[1,2,3,4,5,5]"
   ]
  },
  {
   "cell_type": "code",
   "execution_count": 77,
   "id": "39ae4172",
   "metadata": {},
   "outputs": [
    {
     "data": {
      "text/plain": [
       "[1, 2, 3, 4, 5, 5]"
      ]
     },
     "execution_count": 77,
     "metadata": {},
     "output_type": "execute_result"
    }
   ],
   "source": [
    "l"
   ]
  },
  {
   "cell_type": "markdown",
   "id": "b1b25a96",
   "metadata": {},
   "source": [
    "sum() function"
   ]
  },
  {
   "cell_type": "code",
   "execution_count": 79,
   "id": "edbf1617",
   "metadata": {},
   "outputs": [
    {
     "data": {
      "text/plain": [
       "20"
      ]
     },
     "execution_count": 79,
     "metadata": {},
     "output_type": "execute_result"
    }
   ],
   "source": [
    "sum(l) "
   ]
  },
  {
   "cell_type": "markdown",
   "id": "fba4136a",
   "metadata": {},
   "source": [
    "pop() function"
   ]
  },
  {
   "cell_type": "code",
   "execution_count": 83,
   "id": "16fffa49",
   "metadata": {},
   "outputs": [
    {
     "data": {
      "text/plain": [
       "5"
      ]
     },
     "execution_count": 83,
     "metadata": {},
     "output_type": "execute_result"
    }
   ],
   "source": [
    "l.pop()"
   ]
  },
  {
   "cell_type": "code",
   "execution_count": 84,
   "id": "93928dc7",
   "metadata": {},
   "outputs": [
    {
     "data": {
      "text/plain": [
       "[1, 2, 3, 4, 5]"
      ]
     },
     "execution_count": 84,
     "metadata": {},
     "output_type": "execute_result"
    }
   ],
   "source": [
    "l"
   ]
  },
  {
   "cell_type": "code",
   "execution_count": 85,
   "id": "a4bcca07",
   "metadata": {},
   "outputs": [
    {
     "data": {
      "text/plain": [
       "1"
      ]
     },
     "execution_count": 85,
     "metadata": {},
     "output_type": "execute_result"
    }
   ],
   "source": [
    "l.pop(0)"
   ]
  },
  {
   "cell_type": "code",
   "execution_count": 86,
   "id": "fd5c73a8",
   "metadata": {},
   "outputs": [
    {
     "data": {
      "text/plain": [
       "[2, 3, 4, 5]"
      ]
     },
     "execution_count": 86,
     "metadata": {},
     "output_type": "execute_result"
    }
   ],
   "source": [
    "l"
   ]
  },
  {
   "cell_type": "markdown",
   "id": "cf880d76",
   "metadata": {},
   "source": [
    "count() :calculate total number of occurance of any element in list"
   ]
  },
  {
   "cell_type": "code",
   "execution_count": 87,
   "id": "302ad043",
   "metadata": {},
   "outputs": [
    {
     "data": {
      "text/plain": [
       "0"
      ]
     },
     "execution_count": 87,
     "metadata": {},
     "output_type": "execute_result"
    }
   ],
   "source": [
    "l.count(1)"
   ]
  },
  {
   "cell_type": "code",
   "execution_count": 88,
   "id": "7c34da40",
   "metadata": {},
   "outputs": [
    {
     "data": {
      "text/plain": [
       "1"
      ]
     },
     "execution_count": 88,
     "metadata": {},
     "output_type": "execute_result"
    }
   ],
   "source": [
    "l.count(5)"
   ]
  },
  {
   "cell_type": "code",
   "execution_count": 89,
   "id": "3cb190be",
   "metadata": {},
   "outputs": [
    {
     "data": {
      "text/plain": [
       "0"
      ]
     },
     "execution_count": 89,
     "metadata": {},
     "output_type": "execute_result"
    }
   ],
   "source": [
    "l.count(7)"
   ]
  },
  {
   "cell_type": "code",
   "execution_count": 90,
   "id": "3c6ebe33",
   "metadata": {},
   "outputs": [
    {
     "data": {
      "text/plain": [
       "4"
      ]
     },
     "execution_count": 90,
     "metadata": {},
     "output_type": "execute_result"
    }
   ],
   "source": [
    "#length calculates the total no. present in the list\n",
    "len(l)"
   ]
  },
  {
   "cell_type": "code",
   "execution_count": 93,
   "id": "5f80c627",
   "metadata": {},
   "outputs": [],
   "source": [
    "l.append(101)"
   ]
  },
  {
   "cell_type": "code",
   "execution_count": 94,
   "id": "8a9fb83e",
   "metadata": {},
   "outputs": [
    {
     "data": {
      "text/plain": [
       "[2, 3, 4, 5, 101, 101]"
      ]
     },
     "execution_count": 94,
     "metadata": {},
     "output_type": "execute_result"
    }
   ],
   "source": [
    "l"
   ]
  },
  {
   "cell_type": "code",
   "execution_count": 95,
   "id": "c5dd95b7",
   "metadata": {},
   "outputs": [
    {
     "data": {
      "text/plain": [
       "101"
      ]
     },
     "execution_count": 95,
     "metadata": {},
     "output_type": "execute_result"
    }
   ],
   "source": [
    "l.pop()"
   ]
  },
  {
   "cell_type": "code",
   "execution_count": 96,
   "id": "bdf5650a",
   "metadata": {},
   "outputs": [
    {
     "data": {
      "text/plain": [
       "[2, 3, 4, 5, 101]"
      ]
     },
     "execution_count": 96,
     "metadata": {},
     "output_type": "execute_result"
    }
   ],
   "source": [
    "l"
   ]
  },
  {
   "cell_type": "code",
   "execution_count": 97,
   "id": "0baf4003",
   "metadata": {},
   "outputs": [
    {
     "data": {
      "text/plain": [
       "2"
      ]
     },
     "execution_count": 97,
     "metadata": {},
     "output_type": "execute_result"
    }
   ],
   "source": [
    "#min and max\n",
    "min(l)"
   ]
  },
  {
   "cell_type": "code",
   "execution_count": 98,
   "id": "49f77550",
   "metadata": {},
   "outputs": [
    {
     "data": {
      "text/plain": [
       "101"
      ]
     },
     "execution_count": 98,
     "metadata": {},
     "output_type": "execute_result"
    }
   ],
   "source": [
    "max(l)"
   ]
  },
  {
   "cell_type": "code",
   "execution_count": 99,
   "id": "b74e1895",
   "metadata": {},
   "outputs": [
    {
     "data": {
      "text/plain": [
       "5"
      ]
     },
     "execution_count": 99,
     "metadata": {},
     "output_type": "execute_result"
    }
   ],
   "source": [
    "len(l)"
   ]
  },
  {
   "cell_type": "code",
   "execution_count": 101,
   "id": "04049692",
   "metadata": {},
   "outputs": [
    {
     "data": {
      "text/plain": [
       "0"
      ]
     },
     "execution_count": 101,
     "metadata": {},
     "output_type": "execute_result"
    }
   ],
   "source": [
    "# index() : it calculates the index of 1st occurance in the list.\n",
    "l.index(2)"
   ]
  },
  {
   "cell_type": "code",
   "execution_count": 102,
   "id": "e4a9dc88",
   "metadata": {},
   "outputs": [
    {
     "data": {
      "text/plain": [
       "4"
      ]
     },
     "execution_count": 102,
     "metadata": {},
     "output_type": "execute_result"
    }
   ],
   "source": [
    "l.index(101)"
   ]
  },
  {
   "cell_type": "code",
   "execution_count": 104,
   "id": "e2f32ad2",
   "metadata": {},
   "outputs": [
    {
     "data": {
      "text/plain": [
       "2"
      ]
     },
     "execution_count": 104,
     "metadata": {},
     "output_type": "execute_result"
    }
   ],
   "source": [
    "l.index(4,2,3)"
   ]
  },
  {
   "cell_type": "code",
   "execution_count": 105,
   "id": "68330044",
   "metadata": {},
   "outputs": [
    {
     "data": {
      "text/plain": [
       "[2, 3, 4, 5, 101, 2, 3, 4, 5, 101]"
      ]
     },
     "execution_count": 105,
     "metadata": {},
     "output_type": "execute_result"
    }
   ],
   "source": [
    "l*2"
   ]
  },
  {
   "cell_type": "code",
   "execution_count": 106,
   "id": "af6f02e5",
   "metadata": {},
   "outputs": [
    {
     "data": {
      "text/plain": [
       "[2,\n",
       " 3,\n",
       " 4,\n",
       " 5,\n",
       " 101,\n",
       " 2,\n",
       " 3,\n",
       " 4,\n",
       " 5,\n",
       " 101,\n",
       " 2,\n",
       " 3,\n",
       " 4,\n",
       " 5,\n",
       " 101,\n",
       " 2,\n",
       " 3,\n",
       " 4,\n",
       " 5,\n",
       " 101,\n",
       " 2,\n",
       " 3,\n",
       " 4,\n",
       " 5,\n",
       " 101]"
      ]
     },
     "execution_count": 106,
     "metadata": {},
     "output_type": "execute_result"
    }
   ],
   "source": [
    "l*5"
   ]
  },
  {
   "cell_type": "code",
   "execution_count": 107,
   "id": "5453bb56",
   "metadata": {},
   "outputs": [],
   "source": [
    "#this is not multiplying this is just adding the same list"
   ]
  },
  {
   "cell_type": "markdown",
   "id": "f93332d7",
   "metadata": {},
   "source": [
    "# SETS"
   ]
  },
  {
   "cell_type": "code",
   "execution_count": 1,
   "id": "760386fa",
   "metadata": {},
   "outputs": [],
   "source": [
    "#defining an empty set\n",
    "set_var=set()\n"
   ]
  },
  {
   "cell_type": "code",
   "execution_count": 5,
   "id": "4d065d5c",
   "metadata": {},
   "outputs": [
    {
     "data": {
      "text/plain": [
       "set()"
      ]
     },
     "execution_count": 5,
     "metadata": {},
     "output_type": "execute_result"
    }
   ],
   "source": [
    "set_var"
   ]
  },
  {
   "cell_type": "code",
   "execution_count": 8,
   "id": "f885137a",
   "metadata": {},
   "outputs": [
    {
     "name": "stdout",
     "output_type": "stream",
     "text": [
      "<class 'set'>\n"
     ]
    }
   ],
   "source": [
    "print(type(set_var))"
   ]
  },
  {
   "cell_type": "code",
   "execution_count": 10,
   "id": "677e1afc",
   "metadata": {},
   "outputs": [
    {
     "data": {
      "text/plain": [
       "{1, 2, 3, 4}"
      ]
     },
     "execution_count": 10,
     "metadata": {},
     "output_type": "execute_result"
    }
   ],
   "source": [
    "set_var={1,2,3,4}\n",
    "set_var"
   ]
  },
  {
   "cell_type": "code",
   "execution_count": 13,
   "id": "eacf0794",
   "metadata": {},
   "outputs": [
    {
     "data": {
      "text/plain": [
       "{1, 2, 3, 4}"
      ]
     },
     "execution_count": 13,
     "metadata": {},
     "output_type": "execute_result"
    }
   ],
   "source": [
    "set_var={1,2,3,4,3} #although I provide 3 twice but it will print only once because set doesn't contain duplicate values.\n",
    "set_var"
   ]
  },
  {
   "cell_type": "code",
   "execution_count": 14,
   "id": "83882c85",
   "metadata": {},
   "outputs": [],
   "source": [
    "set_var={'Avengers','Ironman','Hitman'}"
   ]
  },
  {
   "cell_type": "code",
   "execution_count": 15,
   "id": "853af5bd",
   "metadata": {},
   "outputs": [
    {
     "data": {
      "text/plain": [
       "{'Avengers', 'Hitman', 'Ironman'}"
      ]
     },
     "execution_count": 15,
     "metadata": {},
     "output_type": "execute_result"
    }
   ],
   "source": [
    "set_var"
   ]
  },
  {
   "cell_type": "code",
   "execution_count": 16,
   "id": "e2b28af5",
   "metadata": {},
   "outputs": [
    {
     "data": {
      "text/plain": [
       "set"
      ]
     },
     "execution_count": 16,
     "metadata": {},
     "output_type": "execute_result"
    }
   ],
   "source": [
    "type(set_var)"
   ]
  },
  {
   "cell_type": "code",
   "execution_count": 17,
   "id": "5afcd6a7",
   "metadata": {},
   "outputs": [],
   "source": [
    "# inbuilt function in sets"
   ]
  },
  {
   "cell_type": "code",
   "execution_count": 18,
   "id": "1b73f4ee",
   "metadata": {},
   "outputs": [],
   "source": [
    "set_var.add('Buggy')"
   ]
  },
  {
   "cell_type": "code",
   "execution_count": 21,
   "id": "b09f09f8",
   "metadata": {},
   "outputs": [
    {
     "data": {
      "text/plain": [
       "{'Avengers', 'Buggy', 'Hitman', 'Ironman'}"
      ]
     },
     "execution_count": 21,
     "metadata": {},
     "output_type": "execute_result"
    }
   ],
   "source": [
    "set_var"
   ]
  },
  {
   "cell_type": "code",
   "execution_count": 22,
   "id": "ccc33ea9",
   "metadata": {},
   "outputs": [],
   "source": [
    "set_var.remove('Buggy')"
   ]
  },
  {
   "cell_type": "code",
   "execution_count": 23,
   "id": "97c25600",
   "metadata": {},
   "outputs": [
    {
     "data": {
      "text/plain": [
       "{'Avengers', 'Hitman', 'Ironman'}"
      ]
     },
     "execution_count": 23,
     "metadata": {},
     "output_type": "execute_result"
    }
   ],
   "source": [
    "set_var"
   ]
  },
  {
   "cell_type": "code",
   "execution_count": 33,
   "id": "fbf53824",
   "metadata": {},
   "outputs": [],
   "source": [
    "# difference\n",
    "set1={'Avengers','Hitman','buggy','duggu'}\n",
    "set2={'Avengers','Hitman','Ironman','guggu','utpal'}"
   ]
  },
  {
   "cell_type": "code",
   "execution_count": 34,
   "id": "490df993",
   "metadata": {},
   "outputs": [
    {
     "data": {
      "text/plain": [
       "{'Avengers', 'Hitman'}"
      ]
     },
     "execution_count": 34,
     "metadata": {},
     "output_type": "execute_result"
    }
   ],
   "source": [
    "set2.intersection(set1)"
   ]
  },
  {
   "cell_type": "code",
   "execution_count": 26,
   "id": "ae254dfa",
   "metadata": {},
   "outputs": [
    {
     "data": {
      "text/plain": [
       "{'Ironman', 'guggu', 'utpal'}"
      ]
     },
     "execution_count": 26,
     "metadata": {},
     "output_type": "execute_result"
    }
   ],
   "source": [
    "set2.difference(set1)"
   ]
  },
  {
   "cell_type": "code",
   "execution_count": 28,
   "id": "bf81df48",
   "metadata": {},
   "outputs": [
    {
     "data": {
      "text/plain": [
       "{'Avengers', 'Hitman', 'Ironman', 'guggu', 'utpal'}"
      ]
     },
     "execution_count": 28,
     "metadata": {},
     "output_type": "execute_result"
    }
   ],
   "source": [
    "set2 # but we can see it is not updated so for that there is a function called difference_update()"
   ]
  },
  {
   "cell_type": "code",
   "execution_count": 29,
   "id": "1430ac8c",
   "metadata": {},
   "outputs": [],
   "source": [
    "set2.difference_update(set1)"
   ]
  },
  {
   "cell_type": "code",
   "execution_count": 30,
   "id": "97628ad9",
   "metadata": {},
   "outputs": [
    {
     "data": {
      "text/plain": [
       "{'Ironman', 'guggu', 'utpal'}"
      ]
     },
     "execution_count": 30,
     "metadata": {},
     "output_type": "execute_result"
    }
   ],
   "source": [
    "set2"
   ]
  },
  {
   "cell_type": "markdown",
   "id": "3bae0714",
   "metadata": {},
   "source": [
    "# Dictionary"
   ]
  },
  {
   "cell_type": "raw",
   "id": "1204263b",
   "metadata": {},
   "source": [
    "A dictionary is a collection which is unordered, changable and indexed. In python dictioniries are written within curly brackets, and they have key and values."
   ]
  },
  {
   "cell_type": "code",
   "execution_count": 35,
   "id": "4e2fa8f3",
   "metadata": {},
   "outputs": [],
   "source": [
    "dic={}"
   ]
  },
  {
   "cell_type": "code",
   "execution_count": 36,
   "id": "cb863bbe",
   "metadata": {},
   "outputs": [
    {
     "data": {
      "text/plain": [
       "dict"
      ]
     },
     "execution_count": 36,
     "metadata": {},
     "output_type": "execute_result"
    }
   ],
   "source": [
    "type(dic)"
   ]
  },
  {
   "cell_type": "code",
   "execution_count": 37,
   "id": "e686beb2",
   "metadata": {},
   "outputs": [],
   "source": [
    "#Let's create a dictionary\n",
    "my_dict={\"car1\":\"Audi\",\"car2\":\"BMW\",\"car3\":\"Jaguar\"}"
   ]
  },
  {
   "cell_type": "code",
   "execution_count": 38,
   "id": "2fbd58b7",
   "metadata": {},
   "outputs": [
    {
     "data": {
      "text/plain": [
       "{'car1': 'Audi', 'car2': 'BMW', 'car3': 'Jaguar'}"
      ]
     },
     "execution_count": 38,
     "metadata": {},
     "output_type": "execute_result"
    }
   ],
   "source": [
    "my_dict"
   ]
  },
  {
   "cell_type": "code",
   "execution_count": 39,
   "id": "7e8b00e2",
   "metadata": {},
   "outputs": [
    {
     "data": {
      "text/plain": [
       "dict"
      ]
     },
     "execution_count": 39,
     "metadata": {},
     "output_type": "execute_result"
    }
   ],
   "source": [
    "type(my_dict)"
   ]
  },
  {
   "cell_type": "code",
   "execution_count": 40,
   "id": "01e0059c",
   "metadata": {},
   "outputs": [
    {
     "data": {
      "text/plain": [
       "'Audi'"
      ]
     },
     "execution_count": 40,
     "metadata": {},
     "output_type": "execute_result"
    }
   ],
   "source": [
    "#retriving values with the help of keys\n",
    "my_dict['car1']\n"
   ]
  },
  {
   "cell_type": "code",
   "execution_count": 41,
   "id": "d5c75eb3",
   "metadata": {},
   "outputs": [
    {
     "name": "stdout",
     "output_type": "stream",
     "text": [
      "car1\n",
      "car2\n",
      "car3\n"
     ]
    }
   ],
   "source": [
    "#we can even loop throughout the keys\n",
    "for x in my_dict:\n",
    "    print(x)"
   ]
  },
  {
   "cell_type": "code",
   "execution_count": 43,
   "id": "9bf44288",
   "metadata": {},
   "outputs": [
    {
     "name": "stdout",
     "output_type": "stream",
     "text": [
      "Audi\n",
      "BMW\n",
      "Jaguar\n"
     ]
    }
   ],
   "source": [
    "#we can also loop throughout the values\n",
    "for x in my_dict.values():\n",
    "    print(x)"
   ]
  },
  {
   "cell_type": "code",
   "execution_count": 44,
   "id": "2a54716b",
   "metadata": {},
   "outputs": [
    {
     "name": "stdout",
     "output_type": "stream",
     "text": [
      "('car1', 'Audi')\n",
      "('car2', 'BMW')\n",
      "('car3', 'Jaguar')\n"
     ]
    }
   ],
   "source": [
    "#We can also check both keys and values\n",
    "for x in my_dict.items():\n",
    "    print(x)"
   ]
  },
  {
   "cell_type": "code",
   "execution_count": 45,
   "id": "dae9f977",
   "metadata": {},
   "outputs": [],
   "source": [
    "#Adding items in dictionary\n",
    "my_dict['car4']='Lamborgini'"
   ]
  },
  {
   "cell_type": "code",
   "execution_count": 46,
   "id": "758b9b9e",
   "metadata": {},
   "outputs": [
    {
     "data": {
      "text/plain": [
       "{'car1': 'Audi', 'car2': 'BMW', 'car3': 'Jaguar', 'car4': 'Lamborgini'}"
      ]
     },
     "execution_count": 46,
     "metadata": {},
     "output_type": "execute_result"
    }
   ],
   "source": [
    "my_dict"
   ]
  },
  {
   "cell_type": "code",
   "execution_count": 47,
   "id": "b5cb2ce0",
   "metadata": {},
   "outputs": [],
   "source": [
    "my_dict['car1']='Maruti'"
   ]
  },
  {
   "cell_type": "code",
   "execution_count": 48,
   "id": "6c58e49c",
   "metadata": {},
   "outputs": [
    {
     "data": {
      "text/plain": [
       "{'car1': 'Maruti', 'car2': 'BMW', 'car3': 'Jaguar', 'car4': 'Lamborgini'}"
      ]
     },
     "execution_count": 48,
     "metadata": {},
     "output_type": "execute_result"
    }
   ],
   "source": [
    "my_dict"
   ]
  },
  {
   "cell_type": "raw",
   "id": "231b9a77",
   "metadata": {},
   "source": [
    "So if we try to update duplicate key with different value it will be replaced."
   ]
  },
  {
   "cell_type": "markdown",
   "id": "320123b3",
   "metadata": {},
   "source": [
    "Nested dictionary"
   ]
  },
  {
   "cell_type": "code",
   "execution_count": 49,
   "id": "f6ede59c",
   "metadata": {},
   "outputs": [],
   "source": [
    "car1_model={'Audi':1960}\n",
    "car2_model={'Mersedies':1970}\n",
    "car3_model={'Jaguar':1980}\n",
    "\n",
    "car_type={'car1':car1_model,'car2':car2_model,'car3':car3_model}"
   ]
  },
  {
   "cell_type": "code",
   "execution_count": 50,
   "id": "b87b00e6",
   "metadata": {},
   "outputs": [
    {
     "data": {
      "text/plain": [
       "{'car1': {'Audi': 1960}, 'car2': {'Mersedies': 1970}, 'car3': {'Jaguar': 1980}}"
      ]
     },
     "execution_count": 50,
     "metadata": {},
     "output_type": "execute_result"
    }
   ],
   "source": [
    "car_type"
   ]
  },
  {
   "cell_type": "code",
   "execution_count": 51,
   "id": "3e232c79",
   "metadata": {},
   "outputs": [
    {
     "data": {
      "text/plain": [
       "dict"
      ]
     },
     "execution_count": 51,
     "metadata": {},
     "output_type": "execute_result"
    }
   ],
   "source": [
    "type(car_type)"
   ]
  },
  {
   "cell_type": "code",
   "execution_count": 52,
   "id": "3d225769",
   "metadata": {},
   "outputs": [
    {
     "data": {
      "text/plain": [
       "{'Audi': 1960}"
      ]
     },
     "execution_count": 52,
     "metadata": {},
     "output_type": "execute_result"
    }
   ],
   "source": [
    "#accessing the items in dictionary\n",
    "car_type['car1']"
   ]
  },
  {
   "cell_type": "code",
   "execution_count": 54,
   "id": "ed69ac2f",
   "metadata": {},
   "outputs": [
    {
     "data": {
      "text/plain": [
       "1960"
      ]
     },
     "execution_count": 54,
     "metadata": {},
     "output_type": "execute_result"
    }
   ],
   "source": [
    "car_type['car1']['Audi']"
   ]
  },
  {
   "cell_type": "markdown",
   "id": "6f680d05",
   "metadata": {},
   "source": [
    "# Tuples"
   ]
  },
  {
   "cell_type": "code",
   "execution_count": 57,
   "id": "d3a1c42b",
   "metadata": {},
   "outputs": [],
   "source": [
    "#creating an empty tuple\n",
    "my_tuple=tuple()"
   ]
  },
  {
   "cell_type": "code",
   "execution_count": 58,
   "id": "d51058ac",
   "metadata": {},
   "outputs": [
    {
     "data": {
      "text/plain": [
       "tuple"
      ]
     },
     "execution_count": 58,
     "metadata": {},
     "output_type": "execute_result"
    }
   ],
   "source": [
    "type(my_tuple)"
   ]
  },
  {
   "cell_type": "code",
   "execution_count": 59,
   "id": "13f85a88",
   "metadata": {},
   "outputs": [],
   "source": [
    "my_tuple=()"
   ]
  },
  {
   "cell_type": "code",
   "execution_count": 60,
   "id": "a4d36aa4",
   "metadata": {},
   "outputs": [
    {
     "data": {
      "text/plain": [
       "tuple"
      ]
     },
     "execution_count": 60,
     "metadata": {},
     "output_type": "execute_result"
    }
   ],
   "source": [
    "type(my_tuple)"
   ]
  },
  {
   "cell_type": "code",
   "execution_count": 61,
   "id": "6040e151",
   "metadata": {},
   "outputs": [],
   "source": [
    "my_tuple=('Yash','sumi','nandan','kundan')"
   ]
  },
  {
   "cell_type": "code",
   "execution_count": 63,
   "id": "c5a7d0cb",
   "metadata": {},
   "outputs": [
    {
     "data": {
      "text/plain": [
       "('Yash', 'sumi', 'nandan', 'kundan')"
      ]
     },
     "execution_count": 63,
     "metadata": {},
     "output_type": "execute_result"
    }
   ],
   "source": [
    "my_tuple"
   ]
  },
  {
   "cell_type": "code",
   "execution_count": 66,
   "id": "f966ddf3",
   "metadata": {},
   "outputs": [
    {
     "data": {
      "text/plain": [
       "'Yash'"
      ]
     },
     "execution_count": 66,
     "metadata": {},
     "output_type": "execute_result"
    }
   ],
   "source": [
    "#accessing elements in tuple\n",
    "my_tuple[0]"
   ]
  },
  {
   "cell_type": "code",
   "execution_count": 67,
   "id": "c4f0dc0d",
   "metadata": {},
   "outputs": [
    {
     "data": {
      "text/plain": [
       "'nandan'"
      ]
     },
     "execution_count": 67,
     "metadata": {},
     "output_type": "execute_result"
    }
   ],
   "source": [
    "my_tuple[2]"
   ]
  },
  {
   "cell_type": "code",
   "execution_count": 68,
   "id": "9793b2fe",
   "metadata": {},
   "outputs": [],
   "source": [
    "# tuple is unmutable i.e if we assign a tuple there wont be any add or delete in values we can just change the whole tuple"
   ]
  },
  {
   "cell_type": "code",
   "execution_count": 69,
   "id": "662c58ba",
   "metadata": {},
   "outputs": [
    {
     "name": "stdout",
     "output_type": "stream",
     "text": [
      "<class 'tuple'>\n",
      "('Yash', 'sumi', 'nandan', 'kundan')\n"
     ]
    }
   ],
   "source": [
    "print(type(my_tuple))\n",
    "print(my_tuple)"
   ]
  },
  {
   "cell_type": "code",
   "execution_count": 72,
   "id": "25ad9169",
   "metadata": {},
   "outputs": [
    {
     "data": {
      "text/plain": [
       "1"
      ]
     },
     "execution_count": 72,
     "metadata": {},
     "output_type": "execute_result"
    }
   ],
   "source": [
    "#inbuilt function in tuple\n",
    "my_tuple.count('Yash')"
   ]
  },
  {
   "cell_type": "code",
   "execution_count": 73,
   "id": "873ad268",
   "metadata": {},
   "outputs": [
    {
     "data": {
      "text/plain": [
       "1"
      ]
     },
     "execution_count": 73,
     "metadata": {},
     "output_type": "execute_result"
    }
   ],
   "source": [
    "my_tuple.index('sumi')"
   ]
  },
  {
   "cell_type": "code",
   "execution_count": 74,
   "id": "9e706958",
   "metadata": {},
   "outputs": [
    {
     "data": {
      "text/plain": [
       "3"
      ]
     },
     "execution_count": 74,
     "metadata": {},
     "output_type": "execute_result"
    }
   ],
   "source": [
    "my_tuple.index('kundan')"
   ]
  },
  {
   "cell_type": "code",
   "execution_count": null,
   "id": "2b971455",
   "metadata": {},
   "outputs": [],
   "source": []
  }
 ],
 "metadata": {
  "kernelspec": {
   "display_name": "Python 3 (ipykernel)",
   "language": "python",
   "name": "python3"
  },
  "language_info": {
   "codemirror_mode": {
    "name": "ipython",
    "version": 3
   },
   "file_extension": ".py",
   "mimetype": "text/x-python",
   "name": "python",
   "nbconvert_exporter": "python",
   "pygments_lexer": "ipython3",
   "version": "3.9.7"
  }
 },
 "nbformat": 4,
 "nbformat_minor": 5
}
