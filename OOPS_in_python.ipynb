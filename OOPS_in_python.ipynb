{
 "cells": [
  {
   "cell_type": "markdown",
   "id": "321f4ea7",
   "metadata": {},
   "source": [
    "# OOPS in Python"
   ]
  },
  {
   "cell_type": "code",
   "execution_count": 2,
   "id": "c9cbd26f",
   "metadata": {},
   "outputs": [],
   "source": [
    "#Way to create a class"
   ]
  },
  {
   "cell_type": "code",
   "execution_count": 3,
   "id": "0fdcbdc1",
   "metadata": {},
   "outputs": [],
   "source": [
    "class car:\n",
    "    pass"
   ]
  },
  {
   "cell_type": "code",
   "execution_count": 4,
   "id": "35a68b34",
   "metadata": {},
   "outputs": [],
   "source": [
    "car1=car()"
   ]
  },
  {
   "cell_type": "code",
   "execution_count": 5,
   "id": "d111c2b6",
   "metadata": {},
   "outputs": [
    {
     "data": {
      "text/plain": [
       "<__main__.car at 0x20e118a7100>"
      ]
     },
     "execution_count": 5,
     "metadata": {},
     "output_type": "execute_result"
    }
   ],
   "source": [
    "car1"
   ]
  },
  {
   "cell_type": "code",
   "execution_count": 6,
   "id": "5a5add60",
   "metadata": {},
   "outputs": [],
   "source": [
    "car1.windows=4\n",
    "car1.doors=5"
   ]
  },
  {
   "cell_type": "code",
   "execution_count": 7,
   "id": "1763cd91",
   "metadata": {},
   "outputs": [
    {
     "name": "stdout",
     "output_type": "stream",
     "text": [
      "4\n"
     ]
    }
   ],
   "source": [
    "print(car1.windows)"
   ]
  },
  {
   "cell_type": "code",
   "execution_count": 8,
   "id": "b505375f",
   "metadata": {},
   "outputs": [
    {
     "data": {
      "text/plain": [
       "4"
      ]
     },
     "execution_count": 8,
     "metadata": {},
     "output_type": "execute_result"
    }
   ],
   "source": [
    "car1.windows"
   ]
  },
  {
   "cell_type": "code",
   "execution_count": 9,
   "id": "329e6618",
   "metadata": {},
   "outputs": [],
   "source": [
    "car2=car()"
   ]
  },
  {
   "cell_type": "code",
   "execution_count": 10,
   "id": "4a83efd6",
   "metadata": {},
   "outputs": [],
   "source": [
    "car2.windows=3\n",
    "car2.doors=2"
   ]
  },
  {
   "cell_type": "code",
   "execution_count": 11,
   "id": "d50a62b5",
   "metadata": {},
   "outputs": [
    {
     "name": "stdout",
     "output_type": "stream",
     "text": [
      "2\n"
     ]
    }
   ],
   "source": [
    "print(car2.doors)"
   ]
  },
  {
   "cell_type": "code",
   "execution_count": 12,
   "id": "21c3bcf4",
   "metadata": {},
   "outputs": [],
   "source": [
    "car2.engineType=\"Petrol\""
   ]
  },
  {
   "cell_type": "code",
   "execution_count": 13,
   "id": "1a74dbe7",
   "metadata": {},
   "outputs": [
    {
     "name": "stdout",
     "output_type": "stream",
     "text": [
      "Petrol\n"
     ]
    }
   ],
   "source": [
    "print(car2.engineType)"
   ]
  },
  {
   "cell_type": "markdown",
   "id": "95495769",
   "metadata": {},
   "source": [
    "So, this is the bad way to create a class. Because, Many no. of attributes can be defined by the developer and it in not a good practice. So Now we will see the Right approach to create a class"
   ]
  },
  {
   "cell_type": "code",
   "execution_count": 16,
   "id": "e4077a90",
   "metadata": {},
   "outputs": [],
   "source": [
    "class car:\n",
    "    def __init__(self,window,door,engineType):\n",
    "        self.windows=window\n",
    "        self.doors=door\n",
    "        self.enginetype=engineType"
   ]
  },
  {
   "cell_type": "code",
   "execution_count": 19,
   "id": "6ecc9674",
   "metadata": {},
   "outputs": [],
   "source": [
    "car1=car(4,5,\"Petrol\")"
   ]
  },
  {
   "cell_type": "code",
   "execution_count": 20,
   "id": "353cfffd",
   "metadata": {},
   "outputs": [],
   "source": [
    "car2=car(3,4,\"Diesel\")"
   ]
  },
  {
   "cell_type": "code",
   "execution_count": 21,
   "id": "377293de",
   "metadata": {},
   "outputs": [
    {
     "name": "stdout",
     "output_type": "stream",
     "text": [
      "4\n"
     ]
    }
   ],
   "source": [
    "print(car1.windows)"
   ]
  },
  {
   "cell_type": "code",
   "execution_count": 23,
   "id": "b4a69575",
   "metadata": {},
   "outputs": [
    {
     "name": "stdout",
     "output_type": "stream",
     "text": [
      "Diesel\n"
     ]
    }
   ],
   "source": [
    "print(car2.enginetype)"
   ]
  },
  {
   "cell_type": "code",
   "execution_count": 24,
   "id": "8cd4fbab",
   "metadata": {},
   "outputs": [],
   "source": [
    "class car:\n",
    "    def __init__(self,window,door,engineType):\n",
    "        self.windows=window\n",
    "        self.doors=door\n",
    "        self.enginetype=engineType\n",
    "    def self_driving(self):\n",
    "        return \"This is a {} car\".format(self.enginetype)"
   ]
  },
  {
   "cell_type": "code",
   "execution_count": 25,
   "id": "3d9eb271",
   "metadata": {},
   "outputs": [],
   "source": [
    "car1=car(4,5,\"Petrol\")"
   ]
  },
  {
   "cell_type": "code",
   "execution_count": 26,
   "id": "c66d67d4",
   "metadata": {},
   "outputs": [
    {
     "data": {
      "text/plain": [
       "'This is a Petrol car'"
      ]
     },
     "execution_count": 26,
     "metadata": {},
     "output_type": "execute_result"
    }
   ],
   "source": [
    "car1.self_driving()"
   ]
  },
  {
   "cell_type": "code",
   "execution_count": 29,
   "id": "4440a1b1",
   "metadata": {},
   "outputs": [
    {
     "data": {
      "text/plain": [
       "4"
      ]
     },
     "execution_count": 29,
     "metadata": {},
     "output_type": "execute_result"
    }
   ],
   "source": [
    "car1.windows"
   ]
  },
  {
   "cell_type": "code",
   "execution_count": null,
   "id": "d8e11415",
   "metadata": {},
   "outputs": [],
   "source": []
  }
 ],
 "metadata": {
  "kernelspec": {
   "display_name": "Python 3 (ipykernel)",
   "language": "python",
   "name": "python3"
  },
  "language_info": {
   "codemirror_mode": {
    "name": "ipython",
    "version": 3
   },
   "file_extension": ".py",
   "mimetype": "text/x-python",
   "name": "python",
   "nbconvert_exporter": "python",
   "pygments_lexer": "ipython3",
   "version": "3.9.7"
  }
 },
 "nbformat": 4,
 "nbformat_minor": 5
}
