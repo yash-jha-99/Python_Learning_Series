{
 "cells": [
  {
   "cell_type": "markdown",
   "id": "cd18a206",
   "metadata": {},
   "source": [
    "## Python Eval function-- Evaluating Expressions Dynamically"
   ]
  },
  {
   "cell_type": "code",
   "execution_count": 1,
   "id": "1d02bf2c",
   "metadata": {},
   "outputs": [
    {
     "data": {
      "text/plain": [
       "25"
      ]
     },
     "execution_count": 1,
     "metadata": {},
     "output_type": "execute_result"
    }
   ],
   "source": [
    "# eval function evaluates python expression which are written in the form of string.\n",
    "eval(\"5*5\")"
   ]
  },
  {
   "cell_type": "code",
   "execution_count": 3,
   "id": "0d775f6c",
   "metadata": {},
   "outputs": [
    {
     "data": {
      "text/plain": [
       "19.5"
      ]
     },
     "execution_count": 3,
     "metadata": {},
     "output_type": "execute_result"
    }
   ],
   "source": [
    "eval(\"4*4+7/2\")"
   ]
  },
  {
   "cell_type": "code",
   "execution_count": 4,
   "id": "98184b32",
   "metadata": {},
   "outputs": [
    {
     "name": "stdout",
     "output_type": "stream",
     "text": [
      "Enter the Python expression6*7\n"
     ]
    },
    {
     "data": {
      "text/plain": [
       "42"
      ]
     },
     "execution_count": 4,
     "metadata": {},
     "output_type": "execute_result"
    }
   ],
   "source": [
    "eval(input(\"Enter the Python expression\"))"
   ]
  },
  {
   "cell_type": "code",
   "execution_count": 5,
   "id": "2ad67e39",
   "metadata": {},
   "outputs": [
    {
     "name": "stdout",
     "output_type": "stream",
     "text": [
      "Enter the python expressionlen([3,4,5,67,5])\n"
     ]
    },
    {
     "data": {
      "text/plain": [
       "5"
      ]
     },
     "execution_count": 5,
     "metadata": {},
     "output_type": "execute_result"
    }
   ],
   "source": [
    "eval(input(\"Enter the python expression\"))"
   ]
  },
  {
   "cell_type": "code",
   "execution_count": 6,
   "id": "d7b21b6e",
   "metadata": {},
   "outputs": [
    {
     "name": "stdout",
     "output_type": "stream",
     "text": [
      "Enter the python expressionsum([1,2,3,4,5])\n"
     ]
    },
    {
     "data": {
      "text/plain": [
       "15"
      ]
     },
     "execution_count": 6,
     "metadata": {},
     "output_type": "execute_result"
    }
   ],
   "source": [
    "eval(input(\"Enter the python expression\"))"
   ]
  },
  {
   "cell_type": "code",
   "execution_count": 9,
   "id": "95fac9a0",
   "metadata": {},
   "outputs": [],
   "source": [
    "def square_fun(num):\n",
    "    return num**num"
   ]
  },
  {
   "cell_type": "code",
   "execution_count": 11,
   "id": "97cecdac",
   "metadata": {},
   "outputs": [
    {
     "data": {
      "text/plain": [
       "4"
      ]
     },
     "execution_count": 11,
     "metadata": {},
     "output_type": "execute_result"
    }
   ],
   "source": [
    "eval(\"square_fun(2)\")"
   ]
  },
  {
   "cell_type": "markdown",
   "id": "05f5a75b",
   "metadata": {},
   "source": [
    "## How does eval function work\n",
    "- Parse python expression\n",
    "- Compile into a byte code\n",
    "- Evaluate the python expression\n",
    "- it will return the result"
   ]
  },
  {
   "cell_type": "code",
   "execution_count": 13,
   "id": "953de0d3",
   "metadata": {},
   "outputs": [],
   "source": [
    "var=compile(\"5*5\",\"<String>\",\"eval\")"
   ]
  },
  {
   "cell_type": "code",
   "execution_count": 14,
   "id": "b8abf98e",
   "metadata": {},
   "outputs": [
    {
     "data": {
      "text/plain": [
       "25"
      ]
     },
     "execution_count": 14,
     "metadata": {},
     "output_type": "execute_result"
    }
   ],
   "source": [
    "eval(var)"
   ]
  },
  {
   "cell_type": "code",
   "execution_count": 16,
   "id": "f4ed7a25",
   "metadata": {},
   "outputs": [
    {
     "data": {
      "text/plain": [
       "160"
      ]
     },
     "execution_count": 16,
     "metadata": {},
     "output_type": "execute_result"
    }
   ],
   "source": [
    "## Globals\n",
    "eval(\"x+50+x**2\",{\"x\":10})"
   ]
  },
  {
   "cell_type": "code",
   "execution_count": 17,
   "id": "3f69eb44",
   "metadata": {},
   "outputs": [
    {
     "data": {
      "text/plain": [
       "288"
      ]
     },
     "execution_count": 17,
     "metadata": {},
     "output_type": "execute_result"
    }
   ],
   "source": [
    "x=12\n",
    "eval(\"x*x+144\",{\"x\":x})"
   ]
  },
  {
   "cell_type": "code",
   "execution_count": 22,
   "id": "93d3a8b5",
   "metadata": {},
   "outputs": [
    {
     "data": {
      "text/plain": [
       "250"
      ]
     },
     "execution_count": 22,
     "metadata": {},
     "output_type": "execute_result"
    }
   ],
   "source": [
    "x=150\n",
    "y=100\n",
    "eval(\"x+y\",{\"x\":x,\"y\":y})"
   ]
  },
  {
   "cell_type": "code",
   "execution_count": 23,
   "id": "d5263035",
   "metadata": {},
   "outputs": [
    {
     "data": {
      "text/plain": [
       "240"
      ]
     },
     "execution_count": 23,
     "metadata": {},
     "output_type": "execute_result"
    }
   ],
   "source": [
    "x=150\n",
    "y=100\n",
    "eval(\"x+y-z\",{\"x\":x,\"y\":y,\"z\":10})"
   ]
  },
  {
   "cell_type": "code",
   "execution_count": 27,
   "id": "c1ae194e",
   "metadata": {},
   "outputs": [
    {
     "data": {
      "text/plain": [
       "10600"
      ]
     },
     "execution_count": 27,
     "metadata": {},
     "output_type": "execute_result"
    }
   ],
   "source": [
    "x=100\n",
    "y=500\n",
    "z=10000\n",
    "eval(\"x+y+z\")"
   ]
  },
  {
   "cell_type": "code",
   "execution_count": 28,
   "id": "7e6282fc",
   "metadata": {},
   "outputs": [
    {
     "data": {
      "text/plain": [
       "1400"
      ]
     },
     "execution_count": 28,
     "metadata": {},
     "output_type": "execute_result"
    }
   ],
   "source": [
    "## Locals\n",
    "eval(\"a+b+c+500\",{},{\"a\":100,\"b\":200,\"c\":600})"
   ]
  },
  {
   "cell_type": "code",
   "execution_count": 29,
   "id": "59e8f35d",
   "metadata": {},
   "outputs": [
    {
     "data": {
      "text/plain": [
       "True"
      ]
     },
     "execution_count": 29,
     "metadata": {},
     "output_type": "execute_result"
    }
   ],
   "source": [
    "a=70\n",
    "b=60\n",
    "eval(\"a>b\")"
   ]
  },
  {
   "cell_type": "code",
   "execution_count": null,
   "id": "f0035cee",
   "metadata": {},
   "outputs": [],
   "source": []
  }
 ],
 "metadata": {
  "kernelspec": {
   "display_name": "Python 3 (ipykernel)",
   "language": "python",
   "name": "python3"
  },
  "language_info": {
   "codemirror_mode": {
    "name": "ipython",
    "version": 3
   },
   "file_extension": ".py",
   "mimetype": "text/x-python",
   "name": "python",
   "nbconvert_exporter": "python",
   "pygments_lexer": "ipython3",
   "version": "3.9.7"
  }
 },
 "nbformat": 4,
 "nbformat_minor": 5
}
