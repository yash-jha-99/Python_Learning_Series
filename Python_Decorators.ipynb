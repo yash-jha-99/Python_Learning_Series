{
 "cells": [
  {
   "cell_type": "markdown",
   "id": "989be840",
   "metadata": {},
   "source": [
    "## Python Decorators"
   ]
  },
  {
   "cell_type": "code",
   "execution_count": 1,
   "id": "fa1464f7",
   "metadata": {},
   "outputs": [],
   "source": [
    "## function copy\n",
    "## closures\n",
    "## decorators"
   ]
  },
  {
   "cell_type": "code",
   "execution_count": 2,
   "id": "16a22ac9",
   "metadata": {},
   "outputs": [],
   "source": [
    "def welcome():\n",
    "    return \"Hey Yash, Welcome to the Data Community\""
   ]
  },
  {
   "cell_type": "code",
   "execution_count": 5,
   "id": "49503bfc",
   "metadata": {},
   "outputs": [],
   "source": [
    "wel=welcome()\n",
    "del welcome"
   ]
  },
  {
   "cell_type": "code",
   "execution_count": 6,
   "id": "4665c6fa",
   "metadata": {},
   "outputs": [
    {
     "data": {
      "text/plain": [
       "'Hey Yash, Welcome to the Data Community'"
      ]
     },
     "execution_count": 6,
     "metadata": {},
     "output_type": "execute_result"
    }
   ],
   "source": [
    "wel"
   ]
  },
  {
   "cell_type": "code",
   "execution_count": 7,
   "id": "c87b4025",
   "metadata": {},
   "outputs": [
    {
     "ename": "NameError",
     "evalue": "name 'welcome' is not defined",
     "output_type": "error",
     "traceback": [
      "\u001b[1;31m---------------------------------------------------------------------------\u001b[0m",
      "\u001b[1;31mNameError\u001b[0m                                 Traceback (most recent call last)",
      "\u001b[1;32m~\\AppData\\Local\\Temp/ipykernel_20752/241228648.py\u001b[0m in \u001b[0;36m<module>\u001b[1;34m\u001b[0m\n\u001b[1;32m----> 1\u001b[1;33m \u001b[0mwelcome\u001b[0m\u001b[1;33m(\u001b[0m\u001b[1;33m)\u001b[0m\u001b[1;33m\u001b[0m\u001b[1;33m\u001b[0m\u001b[0m\n\u001b[0m",
      "\u001b[1;31mNameError\u001b[0m: name 'welcome' is not defined"
     ]
    }
   ],
   "source": [
    "welcome()"
   ]
  },
  {
   "cell_type": "code",
   "execution_count": 8,
   "id": "9e6a4be7",
   "metadata": {},
   "outputs": [],
   "source": [
    "# This was function copy"
   ]
  },
  {
   "cell_type": "code",
   "execution_count": 19,
   "id": "3e0e665f",
   "metadata": {},
   "outputs": [],
   "source": [
    "## Clousers\n",
    "def main_welcome(msg):\n",
    "    def sub_welcome_class():\n",
    "        print('Hey Yash, Welcome to Data community')\n",
    "        print(msg)\n",
    "        print(\"Yash please,complete python\")\n",
    "    return sub_welcome_class()"
   ]
  },
  {
   "cell_type": "code",
   "execution_count": 20,
   "id": "2175b7ea",
   "metadata": {},
   "outputs": [
    {
     "name": "stdout",
     "output_type": "stream",
     "text": [
      "Hey Yash, Welcome to Data community\n",
      "Data science is fantastic\n",
      "Yash please,complete python\n"
     ]
    }
   ],
   "source": [
    "main_welcome(\"Data science is fantastic\")"
   ]
  },
  {
   "cell_type": "code",
   "execution_count": 21,
   "id": "bba2572d",
   "metadata": {},
   "outputs": [],
   "source": [
    "## Clousers\n",
    "def main_welcome(func):\n",
    "    def sub_welcome_class():\n",
    "        print('Hey Yash, Welcome to Data community')\n",
    "        func(\"You have to work hard to become data scientist\")\n",
    "        print(\"Yash please,complete python\")\n",
    "    return sub_welcome_class()"
   ]
  },
  {
   "cell_type": "code",
   "execution_count": 22,
   "id": "6e0c1dee",
   "metadata": {},
   "outputs": [
    {
     "name": "stdout",
     "output_type": "stream",
     "text": [
      "Hey Yash, Welcome to Data community\n",
      "You have to work hard to become data scientist\n",
      "Yash please,complete python\n"
     ]
    }
   ],
   "source": [
    "main_welcome(print)"
   ]
  },
  {
   "cell_type": "code",
   "execution_count": 27,
   "id": "46598a78",
   "metadata": {},
   "outputs": [],
   "source": [
    "## Clousers\n",
    "def main_welcome(func):\n",
    "    \n",
    "    def sub_welcome_class():\n",
    "        print('Hey Yash, Welcome to Data community')\n",
    "        print(func([1,2,3,4,5]))\n",
    "        print(\"Yash please,complete python\")\n",
    "    return sub_welcome_class()"
   ]
  },
  {
   "cell_type": "code",
   "execution_count": 28,
   "id": "a88b1d2d",
   "metadata": {},
   "outputs": [
    {
     "name": "stdout",
     "output_type": "stream",
     "text": [
      "Hey Yash, Welcome to Data community\n",
      "5\n",
      "Yash please,complete python\n"
     ]
    }
   ],
   "source": [
    "main_welcome(len)"
   ]
  },
  {
   "cell_type": "code",
   "execution_count": 31,
   "id": "08776b89",
   "metadata": {},
   "outputs": [],
   "source": [
    "## Decorators\n",
    "def main_welcome(func):  \n",
    "    def sub_welcome_class():\n",
    "        print('Hey Yash, Welcome to Data community')\n",
    "        func()\n",
    "        print(\"Yash please,complete python\")\n",
    "    return sub_welcome_class()"
   ]
  },
  {
   "cell_type": "code",
   "execution_count": 32,
   "id": "52f99fdf",
   "metadata": {},
   "outputs": [],
   "source": [
    "def own_func():\n",
    "    print(\"The function created by Yash\")"
   ]
  },
  {
   "cell_type": "code",
   "execution_count": 33,
   "id": "b0b349e1",
   "metadata": {},
   "outputs": [
    {
     "name": "stdout",
     "output_type": "stream",
     "text": [
      "Hey Yash, Welcome to Data community\n",
      "The function created by Yash\n",
      "Yash please,complete python\n"
     ]
    }
   ],
   "source": [
    "main_welcome(own_func)"
   ]
  },
  {
   "cell_type": "code",
   "execution_count": 34,
   "id": "cc088ca5",
   "metadata": {},
   "outputs": [
    {
     "name": "stdout",
     "output_type": "stream",
     "text": [
      "Hey Yash, Welcome to Data community\n",
      "The function created by Yash\n",
      "Yash please,complete python\n"
     ]
    }
   ],
   "source": [
    "a=main_welcome(own_func)"
   ]
  },
  {
   "cell_type": "code",
   "execution_count": 37,
   "id": "884a1766",
   "metadata": {},
   "outputs": [
    {
     "name": "stdout",
     "output_type": "stream",
     "text": [
      "Hey Yash, Welcome to Data community\n",
      "The function created by Yash Jha\n",
      "Yash please,complete python\n"
     ]
    }
   ],
   "source": [
    "## another way to define a decorator\n",
    "@main_welcome\n",
    "def own_func():\n",
    "    print(\"The function created by Yash Jha\")"
   ]
  },
  {
   "cell_type": "code",
   "execution_count": null,
   "id": "2a51e559",
   "metadata": {},
   "outputs": [],
   "source": []
  }
 ],
 "metadata": {
  "kernelspec": {
   "display_name": "Python 3 (ipykernel)",
   "language": "python",
   "name": "python3"
  },
  "language_info": {
   "codemirror_mode": {
    "name": "ipython",
    "version": 3
   },
   "file_extension": ".py",
   "mimetype": "text/x-python",
   "name": "python",
   "nbconvert_exporter": "python",
   "pygments_lexer": "ipython3",
   "version": "3.9.7"
  }
 },
 "nbformat": 4,
 "nbformat_minor": 5
}
