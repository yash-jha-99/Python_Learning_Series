{
 "cells": [
  {
   "cell_type": "markdown",
   "id": "fafe7696",
   "metadata": {},
   "source": [
    "# Map function in python"
   ]
  },
  {
   "cell_type": "code",
   "execution_count": 1,
   "id": "f6a4d9b3",
   "metadata": {},
   "outputs": [],
   "source": [
    "def even_or_odd(num):\n",
    "    if num%2==0:\n",
    "        return \"The number {} is even number\".format(num)\n",
    "    else:\n",
    "        return \"The number {} is odd number\".format(num)"
   ]
  },
  {
   "cell_type": "code",
   "execution_count": 2,
   "id": "fcf5737e",
   "metadata": {},
   "outputs": [
    {
     "data": {
      "text/plain": [
       "'The number 24 is even number'"
      ]
     },
     "execution_count": 2,
     "metadata": {},
     "output_type": "execute_result"
    }
   ],
   "source": [
    "even_or_odd(24)"
   ]
  },
  {
   "cell_type": "code",
   "execution_count": 3,
   "id": "87230913",
   "metadata": {},
   "outputs": [],
   "source": [
    "lst=[1,2,3,4,5,6,76,45,65,78,34,5,6]"
   ]
  },
  {
   "cell_type": "raw",
   "id": "884051cb",
   "metadata": {},
   "source": [
    "Suppose we have to check even odd for this list so ieither we can use for loop That will iterarte one by one or we can use the Map function for the same."
   ]
  },
  {
   "cell_type": "code",
   "execution_count": 5,
   "id": "5db3d862",
   "metadata": {},
   "outputs": [
    {
     "data": {
      "text/plain": [
       "['The number 1 is odd number',\n",
       " 'The number 2 is even number',\n",
       " 'The number 3 is odd number',\n",
       " 'The number 4 is even number',\n",
       " 'The number 5 is odd number',\n",
       " 'The number 6 is even number',\n",
       " 'The number 76 is even number',\n",
       " 'The number 45 is odd number',\n",
       " 'The number 65 is odd number',\n",
       " 'The number 78 is even number',\n",
       " 'The number 34 is even number',\n",
       " 'The number 5 is odd number',\n",
       " 'The number 6 is even number']"
      ]
     },
     "execution_count": 5,
     "metadata": {},
     "output_type": "execute_result"
    }
   ],
   "source": [
    "list(map(even_or_odd,lst))"
   ]
  },
  {
   "cell_type": "markdown",
   "id": "b5ddda5f",
   "metadata": {},
   "source": [
    "### Add two lists using map and Lambda function"
   ]
  },
  {
   "cell_type": "code",
   "execution_count": 6,
   "id": "2a02c766",
   "metadata": {},
   "outputs": [],
   "source": [
    "lst1=[1,2,3]\n",
    "lst2=[4,5,6]"
   ]
  },
  {
   "cell_type": "code",
   "execution_count": 9,
   "id": "01889964",
   "metadata": {},
   "outputs": [],
   "source": [
    "result=map(lambda x,y:x+y, lst1,lst2)"
   ]
  },
  {
   "cell_type": "code",
   "execution_count": 11,
   "id": "bd33c2c9",
   "metadata": {},
   "outputs": [
    {
     "name": "stdout",
     "output_type": "stream",
     "text": [
      "[5, 7, 9]\n"
     ]
    }
   ],
   "source": [
    "print(list(result))"
   ]
  },
  {
   "cell_type": "code",
   "execution_count": null,
   "id": "438b3990",
   "metadata": {},
   "outputs": [],
   "source": []
  }
 ],
 "metadata": {
  "kernelspec": {
   "display_name": "Python 3 (ipykernel)",
   "language": "python",
   "name": "python3"
  },
  "language_info": {
   "codemirror_mode": {
    "name": "ipython",
    "version": 3
   },
   "file_extension": ".py",
   "mimetype": "text/x-python",
   "name": "python",
   "nbconvert_exporter": "python",
   "pygments_lexer": "ipython3",
   "version": "3.9.7"
  }
 },
 "nbformat": 4,
 "nbformat_minor": 5
}
