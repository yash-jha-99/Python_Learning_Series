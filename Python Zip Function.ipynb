{
 "cells": [
  {
   "cell_type": "markdown",
   "id": "89b6a25e",
   "metadata": {},
   "source": [
    "## Python zip funbction- Parallel iteration"
   ]
  },
  {
   "cell_type": "code",
   "execution_count": 19,
   "id": "ec3b16ad",
   "metadata": {},
   "outputs": [],
   "source": [
    "lst1=[\"Yash\",\"Sourav\",\"Aadarsh\"]\n",
    "lst2=[\"a\",\"b\",\"c\"]"
   ]
  },
  {
   "cell_type": "code",
   "execution_count": 9,
   "id": "8fe56d3d",
   "metadata": {},
   "outputs": [
    {
     "name": "stdout",
     "output_type": "stream",
     "text": [
      "Yash\n",
      "Sourav\n",
      "Aadarsh\n"
     ]
    }
   ],
   "source": [
    "for i in lst1:\n",
    "    print(i)"
   ]
  },
  {
   "cell_type": "code",
   "execution_count": 20,
   "id": "969d2bb3",
   "metadata": {},
   "outputs": [],
   "source": [
    "output=zip(lst1,lst2)"
   ]
  },
  {
   "cell_type": "code",
   "execution_count": 11,
   "id": "f64d9c02",
   "metadata": {},
   "outputs": [
    {
     "data": {
      "text/plain": [
       "<zip at 0x23a22aecd80>"
      ]
     },
     "execution_count": 11,
     "metadata": {},
     "output_type": "execute_result"
    }
   ],
   "source": [
    "output"
   ]
  },
  {
   "cell_type": "code",
   "execution_count": 5,
   "id": "9b8cefd5",
   "metadata": {},
   "outputs": [
    {
     "data": {
      "text/plain": [
       "[('Yash', 'a'), ('Sourav', 'b'), ('Aadarsh', 'c')]"
      ]
     },
     "execution_count": 5,
     "metadata": {},
     "output_type": "execute_result"
    }
   ],
   "source": [
    "list(output)"
   ]
  },
  {
   "cell_type": "code",
   "execution_count": 16,
   "id": "3116c070",
   "metadata": {},
   "outputs": [
    {
     "ename": "StopIteration",
     "evalue": "",
     "output_type": "error",
     "traceback": [
      "\u001b[1;31m---------------------------------------------------------------------------\u001b[0m",
      "\u001b[1;31mStopIteration\u001b[0m                             Traceback (most recent call last)",
      "\u001b[1;32m~\\AppData\\Local\\Temp/ipykernel_22216/1121823091.py\u001b[0m in \u001b[0;36m<module>\u001b[1;34m\u001b[0m\n\u001b[0;32m      1\u001b[0m \u001b[1;31m## Zip object is an iterator\u001b[0m\u001b[1;33m\u001b[0m\u001b[1;33m\u001b[0m\u001b[0m\n\u001b[1;32m----> 2\u001b[1;33m \u001b[0mnext\u001b[0m\u001b[1;33m(\u001b[0m\u001b[0moutput\u001b[0m\u001b[1;33m)\u001b[0m\u001b[1;33m\u001b[0m\u001b[1;33m\u001b[0m\u001b[0m\n\u001b[0m",
      "\u001b[1;31mStopIteration\u001b[0m: "
     ]
    }
   ],
   "source": [
    "## Zip object is an iterator\n",
    "next(output)"
   ]
  },
  {
   "cell_type": "code",
   "execution_count": 22,
   "id": "de93bdfd",
   "metadata": {},
   "outputs": [
    {
     "name": "stdout",
     "output_type": "stream",
     "text": [
      "Yash a\n",
      "Sourav b\n",
      "Aadarsh c\n"
     ]
    }
   ],
   "source": [
    "output=zip(lst1,lst2)\n",
    "for i,j in output:\n",
    "    print(i,j)"
   ]
  },
  {
   "cell_type": "code",
   "execution_count": 26,
   "id": "5295632e",
   "metadata": {},
   "outputs": [],
   "source": [
    "lst1=['yash','kunal','Nitin']\n",
    "lst2=['funding','startup','investor']\n",
    "lst3=[1,2,3]"
   ]
  },
  {
   "cell_type": "code",
   "execution_count": 27,
   "id": "2f1d8742",
   "metadata": {},
   "outputs": [],
   "source": [
    "output=zip(lst1,lst2,lst3)"
   ]
  },
  {
   "cell_type": "code",
   "execution_count": 28,
   "id": "a848e94b",
   "metadata": {},
   "outputs": [
    {
     "name": "stdout",
     "output_type": "stream",
     "text": [
      "yash funding 1\n",
      "kunal startup 2\n",
      "Nitin investor 3\n"
     ]
    }
   ],
   "source": [
    "for i,j,k in output:\n",
    "    print(i,j,k)"
   ]
  },
  {
   "cell_type": "code",
   "execution_count": 31,
   "id": "00541bed",
   "metadata": {},
   "outputs": [
    {
     "data": {
      "text/plain": [
       "[]"
      ]
     },
     "execution_count": 31,
     "metadata": {},
     "output_type": "execute_result"
    }
   ],
   "source": [
    "#empty zip object\n",
    "list(zip())"
   ]
  },
  {
   "cell_type": "code",
   "execution_count": 44,
   "id": "0c71f07c",
   "metadata": {},
   "outputs": [],
   "source": [
    "dict1={'name':'Yash', 'lst_name':'Jha','Age':22}\n",
    "dict2={'name':'Sourav','lst_name':'Sinha','Age':23}"
   ]
  },
  {
   "cell_type": "code",
   "execution_count": 45,
   "id": "622afa32",
   "metadata": {},
   "outputs": [
    {
     "data": {
      "text/plain": [
       "{'name': 'Yash', 'lst_name': 'Jha', 'Age': 22}"
      ]
     },
     "execution_count": 45,
     "metadata": {},
     "output_type": "execute_result"
    }
   ],
   "source": [
    "dict1"
   ]
  },
  {
   "cell_type": "code",
   "execution_count": 46,
   "id": "1dcf21f6",
   "metadata": {},
   "outputs": [
    {
     "data": {
      "text/plain": [
       "dict_items([('name', 'Yash'), ('lst_name', 'Jha'), ('Age', 22)])"
      ]
     },
     "execution_count": 46,
     "metadata": {},
     "output_type": "execute_result"
    }
   ],
   "source": [
    "dict1.items()"
   ]
  },
  {
   "cell_type": "code",
   "execution_count": 52,
   "id": "d81608dc",
   "metadata": {},
   "outputs": [],
   "source": [
    "dictionary=zip(dict1.items(),dict2.items())"
   ]
  },
  {
   "cell_type": "code",
   "execution_count": 53,
   "id": "da2c4e27",
   "metadata": {},
   "outputs": [
    {
     "name": "stdout",
     "output_type": "stream",
     "text": [
      "name Yash\n",
      "name Sourav\n",
      "lst_name Jha\n",
      "lst_name Sinha\n",
      "Age 22\n",
      "Age 23\n"
     ]
    }
   ],
   "source": [
    "for (i,j),(i2,j2) in dictionary:\n",
    "    print(i,j)\n",
    "    print(i2,j2)"
   ]
  },
  {
   "cell_type": "code",
   "execution_count": null,
   "id": "5fc3e4a1",
   "metadata": {},
   "outputs": [],
   "source": []
  }
 ],
 "metadata": {
  "kernelspec": {
   "display_name": "Python 3 (ipykernel)",
   "language": "python",
   "name": "python3"
  },
  "language_info": {
   "codemirror_mode": {
    "name": "ipython",
    "version": 3
   },
   "file_extension": ".py",
   "mimetype": "text/x-python",
   "name": "python",
   "nbconvert_exporter": "python",
   "pygments_lexer": "ipython3",
   "version": "3.9.7"
  }
 },
 "nbformat": 4,
 "nbformat_minor": 5
}
