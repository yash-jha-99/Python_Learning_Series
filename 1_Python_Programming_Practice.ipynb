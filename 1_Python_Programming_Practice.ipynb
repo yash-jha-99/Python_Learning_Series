{
 "cells": [
  {
   "cell_type": "markdown",
   "id": "20be4096-d6d3-4fab-bd52-2d6b49939dce",
   "metadata": {},
   "source": [
    "### 1. Write a program to demonstrate different number data types in Python"
   ]
  },
  {
   "cell_type": "code",
   "execution_count": 2,
   "id": "a2ebcf3d-c448-4a6f-9b4a-48a53dc4d131",
   "metadata": {},
   "outputs": [
    {
     "name": "stdout",
     "output_type": "stream",
     "text": [
      "Type of a is: <class 'int'>\n",
      "Type of b is: <class 'float'>\n",
      "Type of c is: <class 'complex'>\n",
      "Type of d is: <class 'str'>\n"
     ]
    }
   ],
   "source": [
    "a=10\n",
    "b=11.5\n",
    "c=2.05j\n",
    "d= 'yash jha'\n",
    "print(\"Type of a is:\",type(a))\n",
    "print(\"Type of b is:\",type(b))\n",
    "print(\"Type of c is:\",type(c))\n",
    "print(\"Type of d is:\",type(d))"
   ]
  },
  {
   "cell_type": "code",
   "execution_count": 3,
   "id": "2f6aa99f-858b-425b-acf0-ae3ac184fc5c",
   "metadata": {},
   "outputs": [
    {
     "data": {
      "text/plain": [
       "str"
      ]
     },
     "execution_count": 3,
     "metadata": {},
     "output_type": "execute_result"
    }
   ],
   "source": [
    "type(d)"
   ]
  },
  {
   "cell_type": "markdown",
   "id": "eb60c4a1-270e-456d-930d-e9802801633e",
   "metadata": {},
   "source": [
    "### 2. Write a python program to perform different arithmetic operations on numbers in python"
   ]
  },
  {
   "cell_type": "code",
   "execution_count": 8,
   "id": "93e25201-1e49-4e19-b89b-456743499968",
   "metadata": {},
   "outputs": [
    {
     "name": "stdin",
     "output_type": "stream",
     "text": [
      "Enter the value of a: 50\n",
      "Enter the value of b: 10\n"
     ]
    },
    {
     "name": "stdout",
     "output_type": "stream",
     "text": [
      "Addition of a and b is: 60\n",
      "Subtraction of a and b is: 40\n",
      "Multiplaction of a and b is: 500\n",
      "Division of a and b is: 5.0\n",
      "Reminder of a and b is: 0\n",
      "Exponent of a and b is: 97656250000000000\n",
      "Float of a and b is: 5\n"
     ]
    }
   ],
   "source": [
    "a=int(input(\"Enter the value of a:\"))\n",
    "b=int(input(\"Enter the value of b:\"))\n",
    "print(\"Addition of a and b is:\",a+b)\n",
    "print(\"Subtraction of a and b is:\",a-b)\n",
    "print(\"Multiplaction of a and b is:\",a*b)\n",
    "print(\"Division of a and b is:\",a/b)\n",
    "print(\"Reminder of a and b is:\",a%b)\n",
    "print(\"Exponent of a and b is:\",a**b)  ## exponent operator (a^b)\n",
    "print(\"Float of a and b is:\",a//b)     ## floar division"
   ]
  },
  {
   "cell_type": "markdown",
   "id": "2d7cfaa9-5ab5-4088-bf69-bb4970e6e670",
   "metadata": {},
   "source": [
    "### 3. Write a program to create, concatenate and print a string and accessing sub-string from a given string"
   ]
  },
  {
   "cell_type": "code",
   "execution_count": 16,
   "id": "127b1157-914b-44f2-9570-5a89353d1933",
   "metadata": {},
   "outputs": [
    {
     "name": "stdin",
     "output_type": "stream",
     "text": [
      "Enter first string: My name is yash jha\n",
      "Enter sencond string: I am an united Employee\n"
     ]
    },
    {
     "name": "stdout",
     "output_type": "stream",
     "text": [
      "First string is: My name is yash jha\n",
      "Second string is: I am an united Employee\n",
      "Concatenated string is: My name is yash jhaI am an united Employee\n",
      "substring of given string is: y n\n"
     ]
    }
   ],
   "source": [
    "s1=input(\"Enter first string:\");\n",
    "s2=input(\"Enter sencond string:\");\n",
    "print(\"First string is:\",s1)\n",
    "print(\"Second string is:\",s2)\n",
    "print(\"Concatenated string is:\",s1+s2)\n",
    "print(\"substring of given string is:\",s1[1:4])"
   ]
  },
  {
   "cell_type": "code",
   "execution_count": 17,
   "id": "95117e65-04c6-400b-8fb6-fc9816066124",
   "metadata": {},
   "outputs": [
    {
     "name": "stdout",
     "output_type": "stream",
     "text": [
      "My name is yash jhaI am an united Employee\n"
     ]
    }
   ],
   "source": [
    "s3=s1+s2\n",
    "print(s3)"
   ]
  },
  {
   "cell_type": "code",
   "execution_count": 20,
   "id": "5ca5c383-12a4-4af7-b312-3d1890cf4606",
   "metadata": {},
   "outputs": [
    {
     "name": "stdout",
     "output_type": "stream",
     "text": [
      "My name is yash jha and I am an united Employee\n"
     ]
    }
   ],
   "source": [
    "print(s1,'and', s2)"
   ]
  },
  {
   "cell_type": "code",
   "execution_count": 23,
   "id": "eae93153-180a-4811-8ca1-255058db817f",
   "metadata": {},
   "outputs": [
    {
     "data": {
      "text/plain": [
       "('My name is yash jha', 'and', 'I am an united Employee')"
      ]
     },
     "execution_count": 23,
     "metadata": {},
     "output_type": "execute_result"
    }
   ],
   "source": [
    "s4= (s1, 'and', s2)   ## Tuple\n",
    "s4"
   ]
  },
  {
   "cell_type": "code",
   "execution_count": 24,
   "id": "aff4805a-09b8-4ee5-9c3f-a3fa975c54d0",
   "metadata": {},
   "outputs": [
    {
     "data": {
      "text/plain": [
       "tuple"
      ]
     },
     "execution_count": 24,
     "metadata": {},
     "output_type": "execute_result"
    }
   ],
   "source": [
    "type(s4)"
   ]
  },
  {
   "cell_type": "markdown",
   "id": "b6ed8a1b-570f-4aab-9422-aa2b0e192a53",
   "metadata": {},
   "source": [
    "### 4. Write a python script to print the current date"
   ]
  },
  {
   "cell_type": "code",
   "execution_count": 31,
   "id": "e8fea42e-fb4f-430d-b2df-141c49ff1335",
   "metadata": {},
   "outputs": [
    {
     "name": "stdout",
     "output_type": "stream",
     "text": [
      "time.struct_time(tm_year=2025, tm_mon=3, tm_mday=29, tm_hour=0, tm_min=45, tm_sec=17, tm_wday=5, tm_yday=88, tm_isdst=0)\n",
      "Sat Mar 29 00:45:17 India Standard Time 2025\n"
     ]
    }
   ],
   "source": [
    "import time;\n",
    "ltime=time.localtime();\n",
    "print(ltime);\n",
    "print(time.strftime(\"%a %b %d %H:%M:%S %Z %Y\",ltime));"
   ]
  },
  {
   "cell_type": "markdown",
   "id": "910ee5a9-7aeb-483b-b08a-c687d0116773",
   "metadata": {},
   "source": [
    "## List"
   ]
  },
  {
   "cell_type": "markdown",
   "id": "ea3dc014-2f2e-4b0f-8d76-2a5ca9c25555",
   "metadata": {},
   "source": [
    "### Write a program to create, append and remove lists in python"
   ]
  },
  {
   "cell_type": "code",
   "execution_count": 32,
   "id": "a13d7ca3-2480-4f0a-91c6-ed0378d32fb3",
   "metadata": {},
   "outputs": [],
   "source": [
    "## Creating Empty list\n",
    "my_list=[]"
   ]
  },
  {
   "cell_type": "code",
   "execution_count": 33,
   "id": "f5b9cc47-c9a9-4f01-a5dd-88165d7e06cf",
   "metadata": {},
   "outputs": [
    {
     "data": {
      "text/plain": [
       "list"
      ]
     },
     "execution_count": 33,
     "metadata": {},
     "output_type": "execute_result"
    }
   ],
   "source": [
    "type(my_list)"
   ]
  },
  {
   "cell_type": "code",
   "execution_count": 36,
   "id": "dd450d11-c969-4908-801d-7295041413f3",
   "metadata": {},
   "outputs": [],
   "source": [
    "my_list=[1,2,3,4,5]"
   ]
  },
  {
   "cell_type": "code",
   "execution_count": 37,
   "id": "6ec31c4a-5c14-4700-8ea2-c33dbc3db987",
   "metadata": {},
   "outputs": [
    {
     "data": {
      "text/plain": [
       "[1, 2, 3, 4, 5]"
      ]
     },
     "execution_count": 37,
     "metadata": {},
     "output_type": "execute_result"
    }
   ],
   "source": [
    "my_list"
   ]
  },
  {
   "cell_type": "code",
   "execution_count": 38,
   "id": "90f4c677-5d28-4865-b2b4-a6c25df65381",
   "metadata": {},
   "outputs": [
    {
     "data": {
      "text/plain": [
       "[1, 'Two', 3, 'Four', 5]"
      ]
     },
     "execution_count": 38,
     "metadata": {},
     "output_type": "execute_result"
    }
   ],
   "source": [
    "## List with mixed data types\n",
    "my_list=[1, 'Two',3,'Four', 5]\n",
    "my_list"
   ]
  },
  {
   "cell_type": "code",
   "execution_count": 39,
   "id": "f553b31c-42fa-4afc-be3b-d2522c9dc994",
   "metadata": {},
   "outputs": [
    {
     "data": {
      "text/plain": [
       "['My name is Yash', 1, 'Two', 3, 4, 5, [1, 2, 3]]"
      ]
     },
     "execution_count": 39,
     "metadata": {},
     "output_type": "execute_result"
    }
   ],
   "source": [
    "# Nested List\n",
    "my_list= ['My name is Yash', 1,'Two',3,4,5,[1,2,3]]\n",
    "my_list"
   ]
  },
  {
   "cell_type": "code",
   "execution_count": 40,
   "id": "7ab53d83-1f7f-4d32-8fde-a142985162bd",
   "metadata": {},
   "outputs": [
    {
     "data": {
      "text/plain": [
       "'My name is Yash'"
      ]
     },
     "execution_count": 40,
     "metadata": {},
     "output_type": "execute_result"
    }
   ],
   "source": [
    "my_list[0]"
   ]
  },
  {
   "cell_type": "code",
   "execution_count": 41,
   "id": "4b1f31b1-8043-4c4b-9e2d-85bc7c0c6f6e",
   "metadata": {},
   "outputs": [
    {
     "data": {
      "text/plain": [
       "[1, 'Two']"
      ]
     },
     "execution_count": 41,
     "metadata": {},
     "output_type": "execute_result"
    }
   ],
   "source": [
    "my_list[1:3]"
   ]
  },
  {
   "cell_type": "code",
   "execution_count": 42,
   "id": "525a8b3c-d084-42ce-a16c-3881b98a8b24",
   "metadata": {},
   "outputs": [
    {
     "data": {
      "text/plain": [
       "['My name is Yash', 1, 'Two', 3, 4, 5, [1, 2, 3]]"
      ]
     },
     "execution_count": 42,
     "metadata": {},
     "output_type": "execute_result"
    }
   ],
   "source": [
    "my_list[:]"
   ]
  },
  {
   "cell_type": "code",
   "execution_count": 43,
   "id": "c9a16e7d-463a-446d-b909-aaf38340a10d",
   "metadata": {},
   "outputs": [
    {
     "data": {
      "text/plain": [
       "[3, 4, 5, [1, 2, 3]]"
      ]
     },
     "execution_count": 43,
     "metadata": {},
     "output_type": "execute_result"
    }
   ],
   "source": [
    "my_list[3:]"
   ]
  },
  {
   "cell_type": "code",
   "execution_count": 46,
   "id": "2134d7f3-ce32-462e-8ae5-25ce75d24a63",
   "metadata": {},
   "outputs": [
    {
     "data": {
      "text/plain": [
       "[1, 'Two', 3, 4, 5, [1, 2, 3]]"
      ]
     },
     "execution_count": 46,
     "metadata": {},
     "output_type": "execute_result"
    }
   ],
   "source": [
    "my_list[1:]"
   ]
  },
  {
   "cell_type": "code",
   "execution_count": 47,
   "id": "682df6f6-2248-411a-a59a-9a877a734b26",
   "metadata": {},
   "outputs": [
    {
     "data": {
      "text/plain": [
       "['My name is Yash']"
      ]
     },
     "execution_count": 47,
     "metadata": {},
     "output_type": "execute_result"
    }
   ],
   "source": [
    "my_list[0:1]"
   ]
  },
  {
   "cell_type": "code",
   "execution_count": 49,
   "id": "5ad41560-e252-4955-a5d3-2f405a416d82",
   "metadata": {},
   "outputs": [],
   "source": [
    "## Appending and extending lists\n",
    "odd=[1,3,5]"
   ]
  },
  {
   "cell_type": "code",
   "execution_count": 50,
   "id": "b956ff4d-93c8-47dd-bfc8-5c96159307f9",
   "metadata": {},
   "outputs": [
    {
     "data": {
      "text/plain": [
       "[1, 3, 5]"
      ]
     },
     "execution_count": 50,
     "metadata": {},
     "output_type": "execute_result"
    }
   ],
   "source": [
    "odd"
   ]
  },
  {
   "cell_type": "code",
   "execution_count": 51,
   "id": "7171df31-9344-4916-a33a-3d848d77d81a",
   "metadata": {},
   "outputs": [],
   "source": [
    "odd.append(7)"
   ]
  },
  {
   "cell_type": "code",
   "execution_count": 52,
   "id": "553bd0bf-7678-4637-acbf-6903615415e2",
   "metadata": {},
   "outputs": [
    {
     "data": {
      "text/plain": [
       "[1, 3, 5, 7]"
      ]
     },
     "execution_count": 52,
     "metadata": {},
     "output_type": "execute_result"
    }
   ],
   "source": [
    "odd"
   ]
  },
  {
   "cell_type": "code",
   "execution_count": 53,
   "id": "49eb93f3-2f60-4943-a221-bbaf30d5629b",
   "metadata": {},
   "outputs": [
    {
     "data": {
      "text/plain": [
       "[1, 3, 5, 7, [9, 11, 13]]"
      ]
     },
     "execution_count": 53,
     "metadata": {},
     "output_type": "execute_result"
    }
   ],
   "source": [
    "odd.append([9,11,13])\n",
    "odd"
   ]
  },
  {
   "cell_type": "code",
   "execution_count": 54,
   "id": "8f7e2595-07ff-4aa8-9628-c99e4087112b",
   "metadata": {},
   "outputs": [
    {
     "data": {
      "text/plain": [
       "[1, 3, 5, 7, [9, 11, 13], 9, 11, 13, 15]"
      ]
     },
     "execution_count": 54,
     "metadata": {},
     "output_type": "execute_result"
    }
   ],
   "source": [
    "# By using append function we can't add more than one element as you can see above. for that we will be using extend function\n",
    "odd.extend([9,11,13,15])\n",
    "odd"
   ]
  },
  {
   "cell_type": "code",
   "execution_count": 55,
   "id": "c3715033-9b06-482d-b4b1-ecefe047195c",
   "metadata": {},
   "outputs": [
    {
     "name": "stdout",
     "output_type": "stream",
     "text": [
      "[1, 3, 5, 7, [9, 11, 13], 9, 11, 13, 15]\n"
     ]
    }
   ],
   "source": [
    "print(odd)"
   ]
  },
  {
   "cell_type": "code",
   "execution_count": 58,
   "id": "09a569f3-b173-4372-a536-21588999c8d9",
   "metadata": {},
   "outputs": [],
   "source": [
    "# list concatination\n",
    "combined_list= odd+my_list"
   ]
  },
  {
   "cell_type": "code",
   "execution_count": 59,
   "id": "d31f5c4e-1c11-4454-b5a2-4e05dd7dd0fd",
   "metadata": {},
   "outputs": [
    {
     "data": {
      "text/plain": [
       "[1,\n",
       " 3,\n",
       " 5,\n",
       " 7,\n",
       " [9, 11, 13],\n",
       " 9,\n",
       " 11,\n",
       " 13,\n",
       " 15,\n",
       " 'My name is Yash',\n",
       " 1,\n",
       " 'Two',\n",
       " 3,\n",
       " 4,\n",
       " 5,\n",
       " [1, 2, 3]]"
      ]
     },
     "execution_count": 59,
     "metadata": {},
     "output_type": "execute_result"
    }
   ],
   "source": [
    "combined_list"
   ]
  },
  {
   "cell_type": "code",
   "execution_count": 60,
   "id": "53d919a3-b263-42cf-990c-ea16529da004",
   "metadata": {},
   "outputs": [
    {
     "data": {
      "text/plain": [
       "[1,\n",
       " 5,\n",
       " 7,\n",
       " [9, 11, 13],\n",
       " 9,\n",
       " 11,\n",
       " 13,\n",
       " 15,\n",
       " 'My name is Yash',\n",
       " 1,\n",
       " 'Two',\n",
       " 3,\n",
       " 4,\n",
       " 5,\n",
       " [1, 2, 3]]"
      ]
     },
     "execution_count": 60,
     "metadata": {},
     "output_type": "execute_result"
    }
   ],
   "source": [
    "## Delete/Remove list elements\n",
    "del combined_list[1]\n",
    "combined_list"
   ]
  },
  {
   "cell_type": "code",
   "execution_count": 61,
   "id": "cb6cb8c1-2546-45b4-9e0a-e9dcf25c5feb",
   "metadata": {},
   "outputs": [
    {
     "data": {
      "text/plain": [
       "[1, 9, 11, 13, 15, 'My name is Yash', 1, 'Two', 3, 4, 5, [1, 2, 3]]"
      ]
     },
     "execution_count": 61,
     "metadata": {},
     "output_type": "execute_result"
    }
   ],
   "source": [
    "## Deleting multiple items\n",
    "del combined_list[1:4]\n",
    "combined_list"
   ]
  },
  {
   "cell_type": "code",
   "execution_count": 63,
   "id": "d0d312cd-5e15-4830-9cbf-1351b4ff1d79",
   "metadata": {},
   "outputs": [],
   "source": [
    "combined_list.remove('My name is Yash')"
   ]
  },
  {
   "cell_type": "code",
   "execution_count": 64,
   "id": "c87882bd-6941-4f63-845d-50982ce8186d",
   "metadata": {},
   "outputs": [
    {
     "data": {
      "text/plain": [
       "[1, 9, 11, 13, 15, 1, 'Two', 3, 4, 5, [1, 2, 3]]"
      ]
     },
     "execution_count": 64,
     "metadata": {},
     "output_type": "execute_result"
    }
   ],
   "source": [
    "combined_list"
   ]
  },
  {
   "cell_type": "code",
   "execution_count": 65,
   "id": "4e103f85-88da-4b9b-a91a-d94739848b0e",
   "metadata": {},
   "outputs": [
    {
     "data": {
      "text/plain": [
       "[1, 9, 11, 13, 15, 1, 3, 4, 5, [1, 2, 3]]"
      ]
     },
     "execution_count": 65,
     "metadata": {},
     "output_type": "execute_result"
    }
   ],
   "source": [
    "combined_list.pop(6)\n",
    "combined_list"
   ]
  },
  {
   "cell_type": "code",
   "execution_count": 66,
   "id": "9b7cc634-17fe-4390-bda8-931941ad4ac1",
   "metadata": {},
   "outputs": [
    {
     "data": {
      "text/plain": [
       "[1, 9, 11, 13, 15, 1, 3, 4, 5]"
      ]
     },
     "execution_count": 66,
     "metadata": {},
     "output_type": "execute_result"
    }
   ],
   "source": [
    "last_item_in_list= combined_list.pop()\n",
    "combined_list"
   ]
  },
  {
   "cell_type": "code",
   "execution_count": 67,
   "id": "1026c2c9-e31b-457d-b8a9-4dca6f71fd79",
   "metadata": {},
   "outputs": [
    {
     "name": "stdout",
     "output_type": "stream",
     "text": [
      "[1, 2, 3]\n",
      "[1, 9, 11, 13, 15, 1, 3, 4, 5]\n"
     ]
    }
   ],
   "source": [
    "print(last_item_in_list)\n",
    "print(combined_list)"
   ]
  },
  {
   "cell_type": "code",
   "execution_count": 1,
   "id": "80a17ae2-fda8-4759-a5fa-3287b000739b",
   "metadata": {},
   "outputs": [],
   "source": [
    "### Method\t        Removes By\t             Returns Removed Item?\t    Error If Not Found?\n",
    "### remove(value)\tValue\t                    ❌ No\t                     ✅ Yes\n",
    "### pop(index)\t    Index (default: last)\t    ✅ Yes\t                     ✅ Yes"
   ]
  },
  {
   "cell_type": "code",
   "execution_count": null,
   "id": "544ea9eb-a61a-4be5-9238-9d196f558ff5",
   "metadata": {},
   "outputs": [],
   "source": []
  }
 ],
 "metadata": {
  "kernelspec": {
   "display_name": "Python 3 (ipykernel)",
   "language": "python",
   "name": "python3"
  },
  "language_info": {
   "codemirror_mode": {
    "name": "ipython",
    "version": 3
   },
   "file_extension": ".py",
   "mimetype": "text/x-python",
   "name": "python",
   "nbconvert_exporter": "python",
   "pygments_lexer": "ipython3",
   "version": "3.12.7"
  }
 },
 "nbformat": 4,
 "nbformat_minor": 5
}
